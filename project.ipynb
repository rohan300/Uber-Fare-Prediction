{
 "cells": [
  {
   "cell_type": "markdown",
   "id": "0faef548",
   "metadata": {},
   "source": [
    "# Uber Taxi Fare Prediction"
   ]
  },
  {
   "cell_type": "markdown",
   "id": "4037f21b",
   "metadata": {},
   "source": [
    "## Introduction\n",
    "In this workbook I will be conducting regression analysis on a dataset of Uber trips in New York to predict the fares of potential trips. The dataset is available [here](https://www.kaggle.com/datasets/yasserh/uber-fares-dataset). It is a subset of a larger dataset provided as a dataset for a competition which is available [here](https://www.kaggle.com/competitions/new-york-city-taxi-fare-prediction/data).\n",
    "\n",
    "My goal is to train a machine learning model that can accurately predict the fare of an Uber taxi ride given relevant information such as the pickup and drop-off longitude and latitude, time of day, and distance traveled. To do this, we will use regression techniques to build a model that can make continuous predictions.\n",
    "\n",
    "In this project, I will try to cover the following steps:\n",
    "\n",
    "* Data preparation, cleaning and exploratory data analysis\n",
    "* Model selection and training\n",
    "* Model evaluation and improvement\n",
    "\n",
    "By the end of this project, I hope to have a predictive model that can be used to estimate Uber fares with high accuracy."
   ]
  },
  {
   "cell_type": "markdown",
   "id": "7f304f46",
   "metadata": {},
   "source": [
    "### Imports"
   ]
  },
  {
   "cell_type": "code",
   "execution_count": 145,
   "id": "e0af130d",
   "metadata": {},
   "outputs": [],
   "source": [
    "#import the necessary libraries\n",
    "import numpy as np \n",
    "import pandas as pd\n",
    "import seaborn as sns\n",
    "import matplotlib.pyplot as plt\n",
    "import datetime as dt\n",
    "from sklearn.model_selection import train_test_split\n",
    "import math"
   ]
  },
  {
   "cell_type": "markdown",
   "id": "b97cd26b",
   "metadata": {},
   "source": [
    "### Acquire Data\n",
    "The Python Pandas packages helps us work with our datasets. We start by reading the dataset as a dataframe. "
   ]
  },
  {
   "cell_type": "code",
   "execution_count": 146,
   "id": "01a18043",
   "metadata": {},
   "outputs": [],
   "source": [
    "#import the dataset\n",
    "uber_df = pd.read_csv(\"./uber.csv\")"
   ]
  },
  {
   "cell_type": "code",
   "execution_count": 147,
   "id": "c3f2a207",
   "metadata": {},
   "outputs": [
    {
     "name": "stdout",
     "output_type": "stream",
     "text": [
      "The columns in this dataframe are: ['Unnamed: 0' 'key' 'fare_amount' 'pickup_datetime' 'pickup_longitude'\n",
      " 'pickup_latitude' 'dropoff_longitude' 'dropoff_latitude'\n",
      " 'passenger_count']\n"
     ]
    }
   ],
   "source": [
    "#look at the columns of the dataframe\n",
    "print(f'The columns in this dataframe are: {uber_df.columns.values}')"
   ]
  },
  {
   "cell_type": "code",
   "execution_count": 148,
   "id": "11dc6ec0",
   "metadata": {},
   "outputs": [
    {
     "data": {
      "text/html": [
       "<div>\n",
       "<style scoped>\n",
       "    .dataframe tbody tr th:only-of-type {\n",
       "        vertical-align: middle;\n",
       "    }\n",
       "\n",
       "    .dataframe tbody tr th {\n",
       "        vertical-align: top;\n",
       "    }\n",
       "\n",
       "    .dataframe thead th {\n",
       "        text-align: right;\n",
       "    }\n",
       "</style>\n",
       "<table border=\"1\" class=\"dataframe\">\n",
       "  <thead>\n",
       "    <tr style=\"text-align: right;\">\n",
       "      <th></th>\n",
       "      <th>Unnamed: 0</th>\n",
       "      <th>key</th>\n",
       "      <th>fare_amount</th>\n",
       "      <th>pickup_datetime</th>\n",
       "      <th>pickup_longitude</th>\n",
       "      <th>pickup_latitude</th>\n",
       "      <th>dropoff_longitude</th>\n",
       "      <th>dropoff_latitude</th>\n",
       "      <th>passenger_count</th>\n",
       "    </tr>\n",
       "  </thead>\n",
       "  <tbody>\n",
       "    <tr>\n",
       "      <th>0</th>\n",
       "      <td>24238194</td>\n",
       "      <td>2015-05-07 19:52:06.0000003</td>\n",
       "      <td>7.5</td>\n",
       "      <td>2015-05-07 19:52:06 UTC</td>\n",
       "      <td>-73.999817</td>\n",
       "      <td>40.738354</td>\n",
       "      <td>-73.999512</td>\n",
       "      <td>40.723217</td>\n",
       "      <td>1</td>\n",
       "    </tr>\n",
       "    <tr>\n",
       "      <th>1</th>\n",
       "      <td>27835199</td>\n",
       "      <td>2009-07-17 20:04:56.0000002</td>\n",
       "      <td>7.7</td>\n",
       "      <td>2009-07-17 20:04:56 UTC</td>\n",
       "      <td>-73.994355</td>\n",
       "      <td>40.728225</td>\n",
       "      <td>-73.994710</td>\n",
       "      <td>40.750325</td>\n",
       "      <td>1</td>\n",
       "    </tr>\n",
       "    <tr>\n",
       "      <th>2</th>\n",
       "      <td>44984355</td>\n",
       "      <td>2009-08-24 21:45:00.00000061</td>\n",
       "      <td>12.9</td>\n",
       "      <td>2009-08-24 21:45:00 UTC</td>\n",
       "      <td>-74.005043</td>\n",
       "      <td>40.740770</td>\n",
       "      <td>-73.962565</td>\n",
       "      <td>40.772647</td>\n",
       "      <td>1</td>\n",
       "    </tr>\n",
       "    <tr>\n",
       "      <th>3</th>\n",
       "      <td>25894730</td>\n",
       "      <td>2009-06-26 08:22:21.0000001</td>\n",
       "      <td>5.3</td>\n",
       "      <td>2009-06-26 08:22:21 UTC</td>\n",
       "      <td>-73.976124</td>\n",
       "      <td>40.790844</td>\n",
       "      <td>-73.965316</td>\n",
       "      <td>40.803349</td>\n",
       "      <td>3</td>\n",
       "    </tr>\n",
       "    <tr>\n",
       "      <th>4</th>\n",
       "      <td>17610152</td>\n",
       "      <td>2014-08-28 17:47:00.000000188</td>\n",
       "      <td>16.0</td>\n",
       "      <td>2014-08-28 17:47:00 UTC</td>\n",
       "      <td>-73.925023</td>\n",
       "      <td>40.744085</td>\n",
       "      <td>-73.973082</td>\n",
       "      <td>40.761247</td>\n",
       "      <td>5</td>\n",
       "    </tr>\n",
       "  </tbody>\n",
       "</table>\n",
       "</div>"
      ],
      "text/plain": [
       "   Unnamed: 0                            key  fare_amount  \\\n",
       "0    24238194    2015-05-07 19:52:06.0000003          7.5   \n",
       "1    27835199    2009-07-17 20:04:56.0000002          7.7   \n",
       "2    44984355   2009-08-24 21:45:00.00000061         12.9   \n",
       "3    25894730    2009-06-26 08:22:21.0000001          5.3   \n",
       "4    17610152  2014-08-28 17:47:00.000000188         16.0   \n",
       "\n",
       "           pickup_datetime  pickup_longitude  pickup_latitude  \\\n",
       "0  2015-05-07 19:52:06 UTC        -73.999817        40.738354   \n",
       "1  2009-07-17 20:04:56 UTC        -73.994355        40.728225   \n",
       "2  2009-08-24 21:45:00 UTC        -74.005043        40.740770   \n",
       "3  2009-06-26 08:22:21 UTC        -73.976124        40.790844   \n",
       "4  2014-08-28 17:47:00 UTC        -73.925023        40.744085   \n",
       "\n",
       "   dropoff_longitude  dropoff_latitude  passenger_count  \n",
       "0         -73.999512         40.723217                1  \n",
       "1         -73.994710         40.750325                1  \n",
       "2         -73.962565         40.772647                1  \n",
       "3         -73.965316         40.803349                3  \n",
       "4         -73.973082         40.761247                5  "
      ]
     },
     "execution_count": 148,
     "metadata": {},
     "output_type": "execute_result"
    }
   ],
   "source": [
    "#preview the data\n",
    "uber_df.head()"
   ]
  },
  {
   "cell_type": "code",
   "execution_count": 149,
   "id": "d124b8d5",
   "metadata": {
    "scrolled": true
   },
   "outputs": [
    {
     "data": {
      "text/html": [
       "<div>\n",
       "<style scoped>\n",
       "    .dataframe tbody tr th:only-of-type {\n",
       "        vertical-align: middle;\n",
       "    }\n",
       "\n",
       "    .dataframe tbody tr th {\n",
       "        vertical-align: top;\n",
       "    }\n",
       "\n",
       "    .dataframe thead th {\n",
       "        text-align: right;\n",
       "    }\n",
       "</style>\n",
       "<table border=\"1\" class=\"dataframe\">\n",
       "  <thead>\n",
       "    <tr style=\"text-align: right;\">\n",
       "      <th></th>\n",
       "      <th>Unnamed: 0</th>\n",
       "      <th>key</th>\n",
       "      <th>fare_amount</th>\n",
       "      <th>pickup_datetime</th>\n",
       "      <th>pickup_longitude</th>\n",
       "      <th>pickup_latitude</th>\n",
       "      <th>dropoff_longitude</th>\n",
       "      <th>dropoff_latitude</th>\n",
       "      <th>passenger_count</th>\n",
       "    </tr>\n",
       "  </thead>\n",
       "  <tbody>\n",
       "    <tr>\n",
       "      <th>199995</th>\n",
       "      <td>42598914</td>\n",
       "      <td>2012-10-28 10:49:00.00000053</td>\n",
       "      <td>3.0</td>\n",
       "      <td>2012-10-28 10:49:00 UTC</td>\n",
       "      <td>-73.987042</td>\n",
       "      <td>40.739367</td>\n",
       "      <td>-73.986525</td>\n",
       "      <td>40.740297</td>\n",
       "      <td>1</td>\n",
       "    </tr>\n",
       "    <tr>\n",
       "      <th>199996</th>\n",
       "      <td>16382965</td>\n",
       "      <td>2014-03-14 01:09:00.0000008</td>\n",
       "      <td>7.5</td>\n",
       "      <td>2014-03-14 01:09:00 UTC</td>\n",
       "      <td>-73.984722</td>\n",
       "      <td>40.736837</td>\n",
       "      <td>-74.006672</td>\n",
       "      <td>40.739620</td>\n",
       "      <td>1</td>\n",
       "    </tr>\n",
       "    <tr>\n",
       "      <th>199997</th>\n",
       "      <td>27804658</td>\n",
       "      <td>2009-06-29 00:42:00.00000078</td>\n",
       "      <td>30.9</td>\n",
       "      <td>2009-06-29 00:42:00 UTC</td>\n",
       "      <td>-73.986017</td>\n",
       "      <td>40.756487</td>\n",
       "      <td>-73.858957</td>\n",
       "      <td>40.692588</td>\n",
       "      <td>2</td>\n",
       "    </tr>\n",
       "    <tr>\n",
       "      <th>199998</th>\n",
       "      <td>20259894</td>\n",
       "      <td>2015-05-20 14:56:25.0000004</td>\n",
       "      <td>14.5</td>\n",
       "      <td>2015-05-20 14:56:25 UTC</td>\n",
       "      <td>-73.997124</td>\n",
       "      <td>40.725452</td>\n",
       "      <td>-73.983215</td>\n",
       "      <td>40.695415</td>\n",
       "      <td>1</td>\n",
       "    </tr>\n",
       "    <tr>\n",
       "      <th>199999</th>\n",
       "      <td>11951496</td>\n",
       "      <td>2010-05-15 04:08:00.00000076</td>\n",
       "      <td>14.1</td>\n",
       "      <td>2010-05-15 04:08:00 UTC</td>\n",
       "      <td>-73.984395</td>\n",
       "      <td>40.720077</td>\n",
       "      <td>-73.985508</td>\n",
       "      <td>40.768793</td>\n",
       "      <td>1</td>\n",
       "    </tr>\n",
       "  </tbody>\n",
       "</table>\n",
       "</div>"
      ],
      "text/plain": [
       "        Unnamed: 0                           key  fare_amount  \\\n",
       "199995    42598914  2012-10-28 10:49:00.00000053          3.0   \n",
       "199996    16382965   2014-03-14 01:09:00.0000008          7.5   \n",
       "199997    27804658  2009-06-29 00:42:00.00000078         30.9   \n",
       "199998    20259894   2015-05-20 14:56:25.0000004         14.5   \n",
       "199999    11951496  2010-05-15 04:08:00.00000076         14.1   \n",
       "\n",
       "                pickup_datetime  pickup_longitude  pickup_latitude  \\\n",
       "199995  2012-10-28 10:49:00 UTC        -73.987042        40.739367   \n",
       "199996  2014-03-14 01:09:00 UTC        -73.984722        40.736837   \n",
       "199997  2009-06-29 00:42:00 UTC        -73.986017        40.756487   \n",
       "199998  2015-05-20 14:56:25 UTC        -73.997124        40.725452   \n",
       "199999  2010-05-15 04:08:00 UTC        -73.984395        40.720077   \n",
       "\n",
       "        dropoff_longitude  dropoff_latitude  passenger_count  \n",
       "199995         -73.986525         40.740297                1  \n",
       "199996         -74.006672         40.739620                1  \n",
       "199997         -73.858957         40.692588                2  \n",
       "199998         -73.983215         40.695415                1  \n",
       "199999         -73.985508         40.768793                1  "
      ]
     },
     "execution_count": 149,
     "metadata": {},
     "output_type": "execute_result"
    }
   ],
   "source": [
    "uber_df.tail()"
   ]
  },
  {
   "cell_type": "code",
   "execution_count": 150,
   "id": "c955e67a",
   "metadata": {},
   "outputs": [
    {
     "name": "stdout",
     "output_type": "stream",
     "text": [
      "Dataset consists of 200000 samples\n"
     ]
    },
    {
     "data": {
      "text/plain": [
       "(200000, 9)"
      ]
     },
     "execution_count": 150,
     "metadata": {},
     "output_type": "execute_result"
    }
   ],
   "source": [
    "#Check number of samples in dataset\n",
    "print(f'Dataset consists of {uber_df.shape[0]} samples')\n",
    "uber_df.shape"
   ]
  },
  {
   "cell_type": "code",
   "execution_count": 151,
   "id": "1e41a621",
   "metadata": {},
   "outputs": [
    {
     "data": {
      "text/plain": [
       "Unnamed: 0           0\n",
       "key                  0\n",
       "fare_amount          0\n",
       "pickup_datetime      0\n",
       "pickup_longitude     0\n",
       "pickup_latitude      0\n",
       "dropoff_longitude    1\n",
       "dropoff_latitude     1\n",
       "passenger_count      0\n",
       "dtype: int64"
      ]
     },
     "execution_count": 151,
     "metadata": {},
     "output_type": "execute_result"
    }
   ],
   "source": [
    "#Check if there are any null values in the df\n",
    "uber_df.isnull().sum()"
   ]
  },
  {
   "cell_type": "code",
   "execution_count": 152,
   "id": "2032d5e3",
   "metadata": {},
   "outputs": [
    {
     "data": {
      "text/html": [
       "<div>\n",
       "<style scoped>\n",
       "    .dataframe tbody tr th:only-of-type {\n",
       "        vertical-align: middle;\n",
       "    }\n",
       "\n",
       "    .dataframe tbody tr th {\n",
       "        vertical-align: top;\n",
       "    }\n",
       "\n",
       "    .dataframe thead th {\n",
       "        text-align: right;\n",
       "    }\n",
       "</style>\n",
       "<table border=\"1\" class=\"dataframe\">\n",
       "  <thead>\n",
       "    <tr style=\"text-align: right;\">\n",
       "      <th></th>\n",
       "      <th>Unnamed: 0</th>\n",
       "      <th>key</th>\n",
       "      <th>fare_amount</th>\n",
       "      <th>pickup_datetime</th>\n",
       "      <th>pickup_longitude</th>\n",
       "      <th>pickup_latitude</th>\n",
       "      <th>dropoff_longitude</th>\n",
       "      <th>dropoff_latitude</th>\n",
       "      <th>passenger_count</th>\n",
       "    </tr>\n",
       "  </thead>\n",
       "  <tbody>\n",
       "    <tr>\n",
       "      <th>87946</th>\n",
       "      <td>32736015</td>\n",
       "      <td>2013-07-02 03:51:57.0000001</td>\n",
       "      <td>24.1</td>\n",
       "      <td>2013-07-02 03:51:57 UTC</td>\n",
       "      <td>-73.950581</td>\n",
       "      <td>40.779692</td>\n",
       "      <td>NaN</td>\n",
       "      <td>NaN</td>\n",
       "      <td>0</td>\n",
       "    </tr>\n",
       "  </tbody>\n",
       "</table>\n",
       "</div>"
      ],
      "text/plain": [
       "       Unnamed: 0                          key  fare_amount  \\\n",
       "87946    32736015  2013-07-02 03:51:57.0000001         24.1   \n",
       "\n",
       "               pickup_datetime  pickup_longitude  pickup_latitude  \\\n",
       "87946  2013-07-02 03:51:57 UTC        -73.950581        40.779692   \n",
       "\n",
       "       dropoff_longitude  dropoff_latitude  passenger_count  \n",
       "87946                NaN               NaN                0  "
      ]
     },
     "execution_count": 152,
     "metadata": {},
     "output_type": "execute_result"
    }
   ],
   "source": [
    "#Check the row/rows with null values for the dropoff longitude and latitude\n",
    "uber_df[uber_df.isna().any(axis=1)]"
   ]
  },
  {
   "cell_type": "code",
   "execution_count": 153,
   "id": "2aa7af39",
   "metadata": {},
   "outputs": [],
   "source": [
    "#Drop null value\n",
    "uber_df.dropna(inplace=True)"
   ]
  },
  {
   "cell_type": "code",
   "execution_count": 154,
   "id": "649a03c1",
   "metadata": {},
   "outputs": [
    {
     "data": {
      "text/html": [
       "<div>\n",
       "<style scoped>\n",
       "    .dataframe tbody tr th:only-of-type {\n",
       "        vertical-align: middle;\n",
       "    }\n",
       "\n",
       "    .dataframe tbody tr th {\n",
       "        vertical-align: top;\n",
       "    }\n",
       "\n",
       "    .dataframe thead th {\n",
       "        text-align: right;\n",
       "    }\n",
       "</style>\n",
       "<table border=\"1\" class=\"dataframe\">\n",
       "  <thead>\n",
       "    <tr style=\"text-align: right;\">\n",
       "      <th></th>\n",
       "      <th>Unnamed: 0</th>\n",
       "      <th>fare_amount</th>\n",
       "      <th>pickup_longitude</th>\n",
       "      <th>pickup_latitude</th>\n",
       "      <th>dropoff_longitude</th>\n",
       "      <th>dropoff_latitude</th>\n",
       "      <th>passenger_count</th>\n",
       "    </tr>\n",
       "  </thead>\n",
       "  <tbody>\n",
       "    <tr>\n",
       "      <th>count</th>\n",
       "      <td>1.999990e+05</td>\n",
       "      <td>199999.000000</td>\n",
       "      <td>199999.000000</td>\n",
       "      <td>199999.000000</td>\n",
       "      <td>199999.000000</td>\n",
       "      <td>199999.000000</td>\n",
       "      <td>199999.000000</td>\n",
       "    </tr>\n",
       "    <tr>\n",
       "      <th>mean</th>\n",
       "      <td>2.771248e+07</td>\n",
       "      <td>11.359892</td>\n",
       "      <td>-72.527631</td>\n",
       "      <td>39.935881</td>\n",
       "      <td>-72.525292</td>\n",
       "      <td>39.923890</td>\n",
       "      <td>1.684543</td>\n",
       "    </tr>\n",
       "    <tr>\n",
       "      <th>std</th>\n",
       "      <td>1.601386e+07</td>\n",
       "      <td>9.901760</td>\n",
       "      <td>11.437815</td>\n",
       "      <td>7.720558</td>\n",
       "      <td>13.117408</td>\n",
       "      <td>6.794829</td>\n",
       "      <td>1.385995</td>\n",
       "    </tr>\n",
       "    <tr>\n",
       "      <th>min</th>\n",
       "      <td>1.000000e+00</td>\n",
       "      <td>-52.000000</td>\n",
       "      <td>-1340.648410</td>\n",
       "      <td>-74.015515</td>\n",
       "      <td>-3356.666300</td>\n",
       "      <td>-881.985513</td>\n",
       "      <td>0.000000</td>\n",
       "    </tr>\n",
       "    <tr>\n",
       "      <th>25%</th>\n",
       "      <td>1.382534e+07</td>\n",
       "      <td>6.000000</td>\n",
       "      <td>-73.992065</td>\n",
       "      <td>40.734796</td>\n",
       "      <td>-73.991407</td>\n",
       "      <td>40.733823</td>\n",
       "      <td>1.000000</td>\n",
       "    </tr>\n",
       "    <tr>\n",
       "      <th>50%</th>\n",
       "      <td>2.774524e+07</td>\n",
       "      <td>8.500000</td>\n",
       "      <td>-73.981823</td>\n",
       "      <td>40.752592</td>\n",
       "      <td>-73.980093</td>\n",
       "      <td>40.753042</td>\n",
       "      <td>1.000000</td>\n",
       "    </tr>\n",
       "    <tr>\n",
       "      <th>75%</th>\n",
       "      <td>4.155535e+07</td>\n",
       "      <td>12.500000</td>\n",
       "      <td>-73.967154</td>\n",
       "      <td>40.767158</td>\n",
       "      <td>-73.963658</td>\n",
       "      <td>40.768001</td>\n",
       "      <td>2.000000</td>\n",
       "    </tr>\n",
       "    <tr>\n",
       "      <th>max</th>\n",
       "      <td>5.542357e+07</td>\n",
       "      <td>499.000000</td>\n",
       "      <td>57.418457</td>\n",
       "      <td>1644.421482</td>\n",
       "      <td>1153.572603</td>\n",
       "      <td>872.697628</td>\n",
       "      <td>208.000000</td>\n",
       "    </tr>\n",
       "  </tbody>\n",
       "</table>\n",
       "</div>"
      ],
      "text/plain": [
       "         Unnamed: 0    fare_amount  pickup_longitude  pickup_latitude  \\\n",
       "count  1.999990e+05  199999.000000     199999.000000    199999.000000   \n",
       "mean   2.771248e+07      11.359892        -72.527631        39.935881   \n",
       "std    1.601386e+07       9.901760         11.437815         7.720558   \n",
       "min    1.000000e+00     -52.000000      -1340.648410       -74.015515   \n",
       "25%    1.382534e+07       6.000000        -73.992065        40.734796   \n",
       "50%    2.774524e+07       8.500000        -73.981823        40.752592   \n",
       "75%    4.155535e+07      12.500000        -73.967154        40.767158   \n",
       "max    5.542357e+07     499.000000         57.418457      1644.421482   \n",
       "\n",
       "       dropoff_longitude  dropoff_latitude  passenger_count  \n",
       "count      199999.000000     199999.000000    199999.000000  \n",
       "mean          -72.525292         39.923890         1.684543  \n",
       "std            13.117408          6.794829         1.385995  \n",
       "min         -3356.666300       -881.985513         0.000000  \n",
       "25%           -73.991407         40.733823         1.000000  \n",
       "50%           -73.980093         40.753042         1.000000  \n",
       "75%           -73.963658         40.768001         2.000000  \n",
       "max          1153.572603        872.697628       208.000000  "
      ]
     },
     "execution_count": 154,
     "metadata": {},
     "output_type": "execute_result"
    }
   ],
   "source": [
    "uber_df.describe()"
   ]
  },
  {
   "cell_type": "code",
   "execution_count": 155,
   "id": "e0698190",
   "metadata": {},
   "outputs": [
    {
     "name": "stdout",
     "output_type": "stream",
     "text": [
      "<class 'pandas.core.frame.DataFrame'>\n",
      "Int64Index: 199999 entries, 0 to 199999\n",
      "Data columns (total 9 columns):\n",
      " #   Column             Non-Null Count   Dtype  \n",
      "---  ------             --------------   -----  \n",
      " 0   Unnamed: 0         199999 non-null  int64  \n",
      " 1   key                199999 non-null  object \n",
      " 2   fare_amount        199999 non-null  float64\n",
      " 3   pickup_datetime    199999 non-null  object \n",
      " 4   pickup_longitude   199999 non-null  float64\n",
      " 5   pickup_latitude    199999 non-null  float64\n",
      " 6   dropoff_longitude  199999 non-null  float64\n",
      " 7   dropoff_latitude   199999 non-null  float64\n",
      " 8   passenger_count    199999 non-null  int64  \n",
      "dtypes: float64(5), int64(2), object(2)\n",
      "memory usage: 15.3+ MB\n"
     ]
    }
   ],
   "source": [
    "uber_df.info()"
   ]
  },
  {
   "cell_type": "code",
   "execution_count": 156,
   "id": "09dee005",
   "metadata": {},
   "outputs": [
    {
     "data": {
      "text/plain": [
       "(199999, 9)"
      ]
     },
     "execution_count": 156,
     "metadata": {},
     "output_type": "execute_result"
    }
   ],
   "source": [
    "#check shape of dataframe after dropping value\n",
    "uber_df.shape"
   ]
  },
  {
   "cell_type": "markdown",
   "id": "fdb2e2e7",
   "metadata": {},
   "source": [
    "From the preview, we can see that there are 8 numerical variables and 1 categorical variable."
   ]
  },
  {
   "cell_type": "markdown",
   "id": "40f212c5",
   "metadata": {},
   "source": [
    "The features are:\n",
    "* Unnamed:0 - Not sure what it represents\n",
    "* key - Unique identifier with the pickup_datetime and string attached to the end of it\n",
    "* pickup_datetime - timestamp when trip started\n",
    "* pickup_longitude - value that represents the longitude at which the passenger was picked up\n",
    "* pickup_latitude - value that represents the latitude at which the passenger was picked up\n",
    "* dropoff_longitude - value that represents the longitude at which the passenger was dropped off\n",
    "* dropoff_latitude - value that represents the latitude at which the passenger was dropped off\n",
    "* passenger_count - number of passengers that were in the uber\n",
    "\n",
    "The target is:\n",
    "* fare_amount - Dollar amount cost of the trip"
   ]
  },
  {
   "cell_type": "markdown",
   "id": "ed2b6aa9",
   "metadata": {},
   "source": [
    "We will also look to remove the duplicates in the dataframe if they are present"
   ]
  },
  {
   "cell_type": "code",
   "execution_count": 157,
   "id": "6cac7b8f",
   "metadata": {},
   "outputs": [
    {
     "name": "stdout",
     "output_type": "stream",
     "text": [
      "Found 0 duplicates\n"
     ]
    }
   ],
   "source": [
    "#drop duplicates if present\n",
    "prev_size = uber_df.shape\n",
    "uber_df.drop_duplicates()\n",
    "print(f'Found {prev_size[0] - uber_df.shape[0]} duplicates')"
   ]
  },
  {
   "cell_type": "markdown",
   "id": "225318f0",
   "metadata": {},
   "source": [
    "Values for the longitudes range from [-180, 180] and the values for the latitudes range from [-90, 90]. We will remove the rows that have values outside of these ranges"
   ]
  },
  {
   "cell_type": "code",
   "execution_count": 158,
   "id": "c7f959c6",
   "metadata": {},
   "outputs": [
    {
     "name": "stdout",
     "output_type": "stream",
     "text": [
      "Removed 12 samples with invalid coordinates\n"
     ]
    },
    {
     "data": {
      "text/plain": [
       "(199987, 9)"
      ]
     },
     "execution_count": 158,
     "metadata": {},
     "output_type": "execute_result"
    }
   ],
   "source": [
    "#only select valid longitudes and latitudes\n",
    "rev_size = uber_df.shape\n",
    "uber_df = uber_df[(uber_df.pickup_longitude >= -180) & (uber_df.pickup_longitude <= 180) &\n",
    "                 (uber_df.pickup_latitude >= -90) & (uber_df.pickup_latitude <= 90) &\n",
    "                 (uber_df.dropoff_longitude >= -180) & (uber_df.dropoff_longitude <= 180) &\n",
    "                 (uber_df.dropoff_latitude >= -90) & (uber_df.dropoff_latitude <= 90)]\n",
    "print(f'Removed {prev_size[0] - uber_df.shape[0]} samples with invalid coordinates')\n",
    "uber_df.shape"
   ]
  },
  {
   "cell_type": "code",
   "execution_count": 159,
   "id": "a9dfed12",
   "metadata": {},
   "outputs": [
    {
     "data": {
      "text/html": [
       "<div>\n",
       "<style scoped>\n",
       "    .dataframe tbody tr th:only-of-type {\n",
       "        vertical-align: middle;\n",
       "    }\n",
       "\n",
       "    .dataframe tbody tr th {\n",
       "        vertical-align: top;\n",
       "    }\n",
       "\n",
       "    .dataframe thead th {\n",
       "        text-align: right;\n",
       "    }\n",
       "</style>\n",
       "<table border=\"1\" class=\"dataframe\">\n",
       "  <thead>\n",
       "    <tr style=\"text-align: right;\">\n",
       "      <th></th>\n",
       "      <th>Unnamed: 0</th>\n",
       "      <th>fare_amount</th>\n",
       "      <th>pickup_longitude</th>\n",
       "      <th>pickup_latitude</th>\n",
       "      <th>dropoff_longitude</th>\n",
       "      <th>dropoff_latitude</th>\n",
       "      <th>passenger_count</th>\n",
       "    </tr>\n",
       "  </thead>\n",
       "  <tbody>\n",
       "    <tr>\n",
       "      <th>count</th>\n",
       "      <td>1.999870e+05</td>\n",
       "      <td>199987.000000</td>\n",
       "      <td>199987.000000</td>\n",
       "      <td>199987.000000</td>\n",
       "      <td>199987.000000</td>\n",
       "      <td>199987.000000</td>\n",
       "      <td>199987.000000</td>\n",
       "    </tr>\n",
       "    <tr>\n",
       "      <th>mean</th>\n",
       "      <td>2.771284e+07</td>\n",
       "      <td>11.359849</td>\n",
       "      <td>-72.501786</td>\n",
       "      <td>39.917937</td>\n",
       "      <td>-72.511608</td>\n",
       "      <td>39.922031</td>\n",
       "      <td>1.684544</td>\n",
       "    </tr>\n",
       "    <tr>\n",
       "      <th>std</th>\n",
       "      <td>1.601384e+07</td>\n",
       "      <td>9.901868</td>\n",
       "      <td>10.449955</td>\n",
       "      <td>6.130412</td>\n",
       "      <td>10.412192</td>\n",
       "      <td>6.117669</td>\n",
       "      <td>1.385999</td>\n",
       "    </tr>\n",
       "    <tr>\n",
       "      <th>min</th>\n",
       "      <td>1.000000e+00</td>\n",
       "      <td>-52.000000</td>\n",
       "      <td>-93.824668</td>\n",
       "      <td>-74.015515</td>\n",
       "      <td>-75.458979</td>\n",
       "      <td>-74.015750</td>\n",
       "      <td>0.000000</td>\n",
       "    </tr>\n",
       "    <tr>\n",
       "      <th>25%</th>\n",
       "      <td>1.382554e+07</td>\n",
       "      <td>6.000000</td>\n",
       "      <td>-73.992064</td>\n",
       "      <td>40.734793</td>\n",
       "      <td>-73.991407</td>\n",
       "      <td>40.733823</td>\n",
       "      <td>1.000000</td>\n",
       "    </tr>\n",
       "    <tr>\n",
       "      <th>50%</th>\n",
       "      <td>2.774626e+07</td>\n",
       "      <td>8.500000</td>\n",
       "      <td>-73.981822</td>\n",
       "      <td>40.752592</td>\n",
       "      <td>-73.980092</td>\n",
       "      <td>40.753042</td>\n",
       "      <td>1.000000</td>\n",
       "    </tr>\n",
       "    <tr>\n",
       "      <th>75%</th>\n",
       "      <td>4.155554e+07</td>\n",
       "      <td>12.500000</td>\n",
       "      <td>-73.967154</td>\n",
       "      <td>40.767157</td>\n",
       "      <td>-73.963658</td>\n",
       "      <td>40.768000</td>\n",
       "      <td>2.000000</td>\n",
       "    </tr>\n",
       "    <tr>\n",
       "      <th>max</th>\n",
       "      <td>5.542357e+07</td>\n",
       "      <td>499.000000</td>\n",
       "      <td>40.808425</td>\n",
       "      <td>48.018760</td>\n",
       "      <td>40.831932</td>\n",
       "      <td>45.031598</td>\n",
       "      <td>208.000000</td>\n",
       "    </tr>\n",
       "  </tbody>\n",
       "</table>\n",
       "</div>"
      ],
      "text/plain": [
       "         Unnamed: 0    fare_amount  pickup_longitude  pickup_latitude  \\\n",
       "count  1.999870e+05  199987.000000     199987.000000    199987.000000   \n",
       "mean   2.771284e+07      11.359849        -72.501786        39.917937   \n",
       "std    1.601384e+07       9.901868         10.449955         6.130412   \n",
       "min    1.000000e+00     -52.000000        -93.824668       -74.015515   \n",
       "25%    1.382554e+07       6.000000        -73.992064        40.734793   \n",
       "50%    2.774626e+07       8.500000        -73.981822        40.752592   \n",
       "75%    4.155554e+07      12.500000        -73.967154        40.767157   \n",
       "max    5.542357e+07     499.000000         40.808425        48.018760   \n",
       "\n",
       "       dropoff_longitude  dropoff_latitude  passenger_count  \n",
       "count      199987.000000     199987.000000    199987.000000  \n",
       "mean          -72.511608         39.922031         1.684544  \n",
       "std            10.412192          6.117669         1.385999  \n",
       "min           -75.458979        -74.015750         0.000000  \n",
       "25%           -73.991407         40.733823         1.000000  \n",
       "50%           -73.980092         40.753042         1.000000  \n",
       "75%           -73.963658         40.768000         2.000000  \n",
       "max            40.831932         45.031598       208.000000  "
      ]
     },
     "execution_count": 159,
     "metadata": {},
     "output_type": "execute_result"
    }
   ],
   "source": [
    "uber_df.describe()"
   ]
  },
  {
   "cell_type": "code",
   "execution_count": 160,
   "id": "61c6120c",
   "metadata": {},
   "outputs": [
    {
     "data": {
      "text/plain": [
       "dtype('O')"
      ]
     },
     "execution_count": 160,
     "metadata": {},
     "output_type": "execute_result"
    }
   ],
   "source": [
    "uber_df['pickup_datetime'].dtype"
   ]
  },
  {
   "cell_type": "code",
   "execution_count": 161,
   "id": "f91b69ec",
   "metadata": {},
   "outputs": [
    {
     "data": {
      "image/png": "[encoded data removed]",
      "text/plain": [
       "<Figure size 1152x432 with 2 Axes>"
      ]
     },
     "metadata": {},
     "output_type": "display_data"
    }
   ],
   "source": [
    "#Check the correlation between the values \n",
    "plt.figure(figsize=(16, 6))\n",
    "heatmap = sns.heatmap(uber_df.corr(), vmin=-1, vmax=1, annot=True)\n",
    "heatmap.set_title('Correlation Heatmap', fontdict={'fontsize':12}, pad=12);"
   ]
  },
  {
   "cell_type": "markdown",
   "id": "cb3c4a94",
   "metadata": {},
   "source": [
    "The type of the 'pickup_datetime' column is of type object. To further examine the effect the time has on the fare_amount, we want to convert it so that we can extract the year, month, day and hour"
   ]
  },
  {
   "cell_type": "code",
   "execution_count": 162,
   "id": "30f99613",
   "metadata": {},
   "outputs": [],
   "source": [
    "#convert to datetime to extract month, year etc.\n",
    "uber_df['pickup_datetime'] = pd.to_datetime(uber_df['pickup_datetime'])"
   ]
  },
  {
   "cell_type": "code",
   "execution_count": 163,
   "id": "31108127",
   "metadata": {},
   "outputs": [
    {
     "data": {
      "text/plain": [
       "datetime64[ns, UTC]"
      ]
     },
     "execution_count": 163,
     "metadata": {},
     "output_type": "execute_result"
    }
   ],
   "source": [
    "#Check the new type of pickup_datetime column\n",
    "uber_df['pickup_datetime'].dtype"
   ]
  },
  {
   "cell_type": "markdown",
   "id": "ea2d42b8",
   "metadata": {},
   "source": [
    "We can now extract the specific values for year, month, day and hour of the pickup"
   ]
  },
  {
   "cell_type": "code",
   "execution_count": 164,
   "id": "3293700a",
   "metadata": {},
   "outputs": [],
   "source": [
    "#create columns for year, month, day, time\n",
    "uber_df['year'] = uber_df['pickup_datetime'].dt.year\n",
    "uber_df['month'] = uber_df['pickup_datetime'].dt.month\n",
    "uber_df['day'] = uber_df['pickup_datetime'].dt.weekday\n",
    "uber_df['hour'] = uber_df['pickup_datetime'].dt.hour"
   ]
  },
  {
   "cell_type": "code",
   "execution_count": 165,
   "id": "a2fb7e01",
   "metadata": {},
   "outputs": [
    {
     "data": {
      "image/png": "[encoded data removed]",
      "text/plain": [
       "<Figure size 1152x432 with 2 Axes>"
      ]
     },
     "metadata": {},
     "output_type": "display_data"
    }
   ],
   "source": [
    "#Check the correlation between the values \n",
    "plt.figure(figsize=(16, 6))\n",
    "heatmap = sns.heatmap(uber_df.corr(), vmin=-1, vmax=1, annot=True)\n",
    "heatmap.set_title('Correlation Heatmap', fontdict={'fontsize':12}, pad=12);"
   ]
  },
  {
   "cell_type": "markdown",
   "id": "abdeb57f",
   "metadata": {},
   "source": [
    "We can see from the dataframes and heatmap above that there is no correlation between the column Unnamed: 0 and any other column. We can drop this column as it seems to be a random set of numbers."
   ]
  },
  {
   "cell_type": "code",
   "execution_count": 166,
   "id": "4c433b19",
   "metadata": {},
   "outputs": [],
   "source": [
    "#drop Unnamed: 0\n",
    "uber_df.drop('Unnamed: 0', axis=1, inplace=True)"
   ]
  },
  {
   "cell_type": "markdown",
   "id": "b191fbe2",
   "metadata": {},
   "source": [
    "Since the 'key' column is also just a repitition of the 'pickup_datetime' with a string concatenated at the end, we can also drop that"
   ]
  },
  {
   "cell_type": "code",
   "execution_count": 167,
   "id": "9c231187",
   "metadata": {},
   "outputs": [],
   "source": [
    "#drop key column\n",
    "uber_df.drop('key', axis = 1, inplace=True)"
   ]
  },
  {
   "cell_type": "markdown",
   "id": "f07cdf6c",
   "metadata": {},
   "source": [
    "Since we have the values for the year, month, day and hour, we can drop pickup_datetime column since we have all the information we need in different columns"
   ]
  },
  {
   "cell_type": "code",
   "execution_count": 168,
   "id": "0cf469f1",
   "metadata": {},
   "outputs": [],
   "source": [
    "#drop pickup_datetime\n",
    "uber_df.drop('pickup_datetime', axis = 1, inplace=True)"
   ]
  },
  {
   "cell_type": "code",
   "execution_count": 169,
   "id": "5c8230a7",
   "metadata": {},
   "outputs": [
    {
     "data": {
      "text/html": [
       "<div>\n",
       "<style scoped>\n",
       "    .dataframe tbody tr th:only-of-type {\n",
       "        vertical-align: middle;\n",
       "    }\n",
       "\n",
       "    .dataframe tbody tr th {\n",
       "        vertical-align: top;\n",
       "    }\n",
       "\n",
       "    .dataframe thead th {\n",
       "        text-align: right;\n",
       "    }\n",
       "</style>\n",
       "<table border=\"1\" class=\"dataframe\">\n",
       "  <thead>\n",
       "    <tr style=\"text-align: right;\">\n",
       "      <th></th>\n",
       "      <th>fare_amount</th>\n",
       "      <th>pickup_longitude</th>\n",
       "      <th>pickup_latitude</th>\n",
       "      <th>dropoff_longitude</th>\n",
       "      <th>dropoff_latitude</th>\n",
       "      <th>passenger_count</th>\n",
       "      <th>year</th>\n",
       "      <th>month</th>\n",
       "      <th>day</th>\n",
       "      <th>hour</th>\n",
       "    </tr>\n",
       "  </thead>\n",
       "  <tbody>\n",
       "    <tr>\n",
       "      <th>0</th>\n",
       "      <td>7.5</td>\n",
       "      <td>-73.999817</td>\n",
       "      <td>40.738354</td>\n",
       "      <td>-73.999512</td>\n",
       "      <td>40.723217</td>\n",
       "      <td>1</td>\n",
       "      <td>2015</td>\n",
       "      <td>5</td>\n",
       "      <td>3</td>\n",
       "      <td>19</td>\n",
       "    </tr>\n",
       "    <tr>\n",
       "      <th>1</th>\n",
       "      <td>7.7</td>\n",
       "      <td>-73.994355</td>\n",
       "      <td>40.728225</td>\n",
       "      <td>-73.994710</td>\n",
       "      <td>40.750325</td>\n",
       "      <td>1</td>\n",
       "      <td>2009</td>\n",
       "      <td>7</td>\n",
       "      <td>4</td>\n",
       "      <td>20</td>\n",
       "    </tr>\n",
       "    <tr>\n",
       "      <th>2</th>\n",
       "      <td>12.9</td>\n",
       "      <td>-74.005043</td>\n",
       "      <td>40.740770</td>\n",
       "      <td>-73.962565</td>\n",
       "      <td>40.772647</td>\n",
       "      <td>1</td>\n",
       "      <td>2009</td>\n",
       "      <td>8</td>\n",
       "      <td>0</td>\n",
       "      <td>21</td>\n",
       "    </tr>\n",
       "    <tr>\n",
       "      <th>3</th>\n",
       "      <td>5.3</td>\n",
       "      <td>-73.976124</td>\n",
       "      <td>40.790844</td>\n",
       "      <td>-73.965316</td>\n",
       "      <td>40.803349</td>\n",
       "      <td>3</td>\n",
       "      <td>2009</td>\n",
       "      <td>6</td>\n",
       "      <td>4</td>\n",
       "      <td>8</td>\n",
       "    </tr>\n",
       "    <tr>\n",
       "      <th>4</th>\n",
       "      <td>16.0</td>\n",
       "      <td>-73.925023</td>\n",
       "      <td>40.744085</td>\n",
       "      <td>-73.973082</td>\n",
       "      <td>40.761247</td>\n",
       "      <td>5</td>\n",
       "      <td>2014</td>\n",
       "      <td>8</td>\n",
       "      <td>3</td>\n",
       "      <td>17</td>\n",
       "    </tr>\n",
       "    <tr>\n",
       "      <th>...</th>\n",
       "      <td>...</td>\n",
       "      <td>...</td>\n",
       "      <td>...</td>\n",
       "      <td>...</td>\n",
       "      <td>...</td>\n",
       "      <td>...</td>\n",
       "      <td>...</td>\n",
       "      <td>...</td>\n",
       "      <td>...</td>\n",
       "      <td>...</td>\n",
       "    </tr>\n",
       "    <tr>\n",
       "      <th>199995</th>\n",
       "      <td>3.0</td>\n",
       "      <td>-73.987042</td>\n",
       "      <td>40.739367</td>\n",
       "      <td>-73.986525</td>\n",
       "      <td>40.740297</td>\n",
       "      <td>1</td>\n",
       "      <td>2012</td>\n",
       "      <td>10</td>\n",
       "      <td>6</td>\n",
       "      <td>10</td>\n",
       "    </tr>\n",
       "    <tr>\n",
       "      <th>199996</th>\n",
       "      <td>7.5</td>\n",
       "      <td>-73.984722</td>\n",
       "      <td>40.736837</td>\n",
       "      <td>-74.006672</td>\n",
       "      <td>40.739620</td>\n",
       "      <td>1</td>\n",
       "      <td>2014</td>\n",
       "      <td>3</td>\n",
       "      <td>4</td>\n",
       "      <td>1</td>\n",
       "    </tr>\n",
       "    <tr>\n",
       "      <th>199997</th>\n",
       "      <td>30.9</td>\n",
       "      <td>-73.986017</td>\n",
       "      <td>40.756487</td>\n",
       "      <td>-73.858957</td>\n",
       "      <td>40.692588</td>\n",
       "      <td>2</td>\n",
       "      <td>2009</td>\n",
       "      <td>6</td>\n",
       "      <td>0</td>\n",
       "      <td>0</td>\n",
       "    </tr>\n",
       "    <tr>\n",
       "      <th>199998</th>\n",
       "      <td>14.5</td>\n",
       "      <td>-73.997124</td>\n",
       "      <td>40.725452</td>\n",
       "      <td>-73.983215</td>\n",
       "      <td>40.695415</td>\n",
       "      <td>1</td>\n",
       "      <td>2015</td>\n",
       "      <td>5</td>\n",
       "      <td>2</td>\n",
       "      <td>14</td>\n",
       "    </tr>\n",
       "    <tr>\n",
       "      <th>199999</th>\n",
       "      <td>14.1</td>\n",
       "      <td>-73.984395</td>\n",
       "      <td>40.720077</td>\n",
       "      <td>-73.985508</td>\n",
       "      <td>40.768793</td>\n",
       "      <td>1</td>\n",
       "      <td>2010</td>\n",
       "      <td>5</td>\n",
       "      <td>5</td>\n",
       "      <td>4</td>\n",
       "    </tr>\n",
       "  </tbody>\n",
       "</table>\n",
       "<p>199987 rows × 10 columns</p>\n",
       "</div>"
      ],
      "text/plain": [
       "        fare_amount  pickup_longitude  pickup_latitude  dropoff_longitude  \\\n",
       "0               7.5        -73.999817        40.738354         -73.999512   \n",
       "1               7.7        -73.994355        40.728225         -73.994710   \n",
       "2              12.9        -74.005043        40.740770         -73.962565   \n",
       "3               5.3        -73.976124        40.790844         -73.965316   \n",
       "4              16.0        -73.925023        40.744085         -73.973082   \n",
       "...             ...               ...              ...                ...   \n",
       "199995          3.0        -73.987042        40.739367         -73.986525   \n",
       "199996          7.5        -73.984722        40.736837         -74.006672   \n",
       "199997         30.9        -73.986017        40.756487         -73.858957   \n",
       "199998         14.5        -73.997124        40.725452         -73.983215   \n",
       "199999         14.1        -73.984395        40.720077         -73.985508   \n",
       "\n",
       "        dropoff_latitude  passenger_count  year  month  day  hour  \n",
       "0              40.723217                1  2015      5    3    19  \n",
       "1              40.750325                1  2009      7    4    20  \n",
       "2              40.772647                1  2009      8    0    21  \n",
       "3              40.803349                3  2009      6    4     8  \n",
       "4              40.761247                5  2014      8    3    17  \n",
       "...                  ...              ...   ...    ...  ...   ...  \n",
       "199995         40.740297                1  2012     10    6    10  \n",
       "199996         40.739620                1  2014      3    4     1  \n",
       "199997         40.692588                2  2009      6    0     0  \n",
       "199998         40.695415                1  2015      5    2    14  \n",
       "199999         40.768793                1  2010      5    5     4  \n",
       "\n",
       "[199987 rows x 10 columns]"
      ]
     },
     "execution_count": 169,
     "metadata": {},
     "output_type": "execute_result"
    }
   ],
   "source": [
    "uber_df"
   ]
  },
  {
   "cell_type": "markdown",
   "id": "debeb4c6",
   "metadata": {},
   "source": [
    "### Adding new distance column"
   ]
  },
  {
   "cell_type": "code",
   "execution_count": 170,
   "id": "3b6a83e0",
   "metadata": {},
   "outputs": [
    {
     "data": {
      "image/png": "[encoded data removed]",
      "text/plain": [
       "<Figure size 1152x432 with 2 Axes>"
      ]
     },
     "metadata": {},
     "output_type": "display_data"
    }
   ],
   "source": [
    "#Check the correlation between the values \n",
    "plt.figure(figsize=(16, 6))\n",
    "heatmap = sns.heatmap(uber_df.corr(), vmin=-1, vmax=1, annot=True)\n",
    "heatmap.set_title('Correlation Heatmap', fontdict={'fontsize':12}, pad=12);"
   ]
  },
  {
   "cell_type": "markdown",
   "id": "f61274b4",
   "metadata": {},
   "source": [
    "After looking at the other features in the dataframe, we see that we do not have a strong correlation with the target (fare_amount). Uber bases its fare_amount on the distance and since we cannot see a huge correlation between the coordinates and the price, so I will try to convert it to a single variable - Distance. I believe there isn't a lot of correlation between the coordinates and the fare_amount because the values of the coordinates differ very slightly and could be difficult to measure"
   ]
  },
  {
   "cell_type": "markdown",
   "id": "16885837",
   "metadata": {},
   "source": [
    "To calculate the distance between two points given their longitudes and latitudes, I'm going to use the Haversine formula, which is a mathematical formula that gives the great-circle distance between two points on the surface of a sphere, such as the Earth. The formula takes into account the curvature of the Earth and provides a more accurate result than simple Euclidean distance calculations. I'm implementing the formula from [here](https://en.wikipedia.org/wiki/Haversine_formula)."
   ]
  },
  {
   "cell_type": "code",
   "execution_count": 171,
   "id": "03cefccc",
   "metadata": {},
   "outputs": [],
   "source": [
    "def distance(lon1, lat1, lon2, lat2):\n",
    "    # Convert latitude and longitude to spherical coordinates in radians.\n",
    "    lat1, lon1, lat2, lon2 = map(math.radians, [lat1, lon1, lat2, lon2])\n",
    "\n",
    "    # Compute the Haversine formula.\n",
    "    dlat = lat2 - lat1\n",
    "    dlon = lon2 - lon1\n",
    "    a = math.sin(dlat/2)**2 + math.cos(lat1) * math.cos(lat2) * math.sin(dlon/2)**2\n",
    "    c = 2 * math.asin(math.sqrt(a))\n",
    "    r = 6371  # Radius of Earth in kilometers.\n",
    "    return c * r"
   ]
  },
  {
   "cell_type": "code",
   "execution_count": 172,
   "id": "1182895a",
   "metadata": {},
   "outputs": [],
   "source": [
    "uber_df['Distance'] = uber_df.apply(lambda x: distance(x['pickup_longitude'], x['pickup_latitude'],\n",
    "                              x['dropoff_longitude'], x['dropoff_latitude']), axis=1)"
   ]
  },
  {
   "cell_type": "markdown",
   "id": "6c415c3c",
   "metadata": {},
   "source": [
    "Also adding new columns for the absolute differences between the longitude values and also the latitude values. I did this to see if there was any adddition information that could be found relating to the fare_amount"
   ]
  },
  {
   "cell_type": "code",
   "execution_count": 173,
   "id": "8a4be3ee",
   "metadata": {},
   "outputs": [],
   "source": [
    "#Calculate absolute difference between dropoff coordinates and pickup coordinates\n",
    "uber_df['abs_long'] = abs(uber_df['pickup_longitude'] - uber_df['dropoff_longitude'])\n",
    "uber_df['abs_lat'] = abs(uber_df['pickup_latitude'] - uber_df['dropoff_latitude'])"
   ]
  },
  {
   "cell_type": "code",
   "execution_count": 174,
   "id": "1abf6202",
   "metadata": {
    "scrolled": true
   },
   "outputs": [
    {
     "data": {
      "text/html": [
       "<div>\n",
       "<style scoped>\n",
       "    .dataframe tbody tr th:only-of-type {\n",
       "        vertical-align: middle;\n",
       "    }\n",
       "\n",
       "    .dataframe tbody tr th {\n",
       "        vertical-align: top;\n",
       "    }\n",
       "\n",
       "    .dataframe thead th {\n",
       "        text-align: right;\n",
       "    }\n",
       "</style>\n",
       "<table border=\"1\" class=\"dataframe\">\n",
       "  <thead>\n",
       "    <tr style=\"text-align: right;\">\n",
       "      <th></th>\n",
       "      <th>fare_amount</th>\n",
       "      <th>pickup_longitude</th>\n",
       "      <th>pickup_latitude</th>\n",
       "      <th>dropoff_longitude</th>\n",
       "      <th>dropoff_latitude</th>\n",
       "      <th>passenger_count</th>\n",
       "      <th>year</th>\n",
       "      <th>month</th>\n",
       "      <th>day</th>\n",
       "      <th>hour</th>\n",
       "      <th>Distance</th>\n",
       "      <th>abs_long</th>\n",
       "      <th>abs_lat</th>\n",
       "    </tr>\n",
       "  </thead>\n",
       "  <tbody>\n",
       "    <tr>\n",
       "      <th>0</th>\n",
       "      <td>7.5</td>\n",
       "      <td>-73.999817</td>\n",
       "      <td>40.738354</td>\n",
       "      <td>-73.999512</td>\n",
       "      <td>40.723217</td>\n",
       "      <td>1</td>\n",
       "      <td>2015</td>\n",
       "      <td>5</td>\n",
       "      <td>3</td>\n",
       "      <td>19</td>\n",
       "      <td>1.683323</td>\n",
       "      <td>0.000305</td>\n",
       "      <td>0.015137</td>\n",
       "    </tr>\n",
       "    <tr>\n",
       "      <th>1</th>\n",
       "      <td>7.7</td>\n",
       "      <td>-73.994355</td>\n",
       "      <td>40.728225</td>\n",
       "      <td>-73.994710</td>\n",
       "      <td>40.750325</td>\n",
       "      <td>1</td>\n",
       "      <td>2009</td>\n",
       "      <td>7</td>\n",
       "      <td>4</td>\n",
       "      <td>20</td>\n",
       "      <td>2.457590</td>\n",
       "      <td>0.000355</td>\n",
       "      <td>0.022100</td>\n",
       "    </tr>\n",
       "    <tr>\n",
       "      <th>2</th>\n",
       "      <td>12.9</td>\n",
       "      <td>-74.005043</td>\n",
       "      <td>40.740770</td>\n",
       "      <td>-73.962565</td>\n",
       "      <td>40.772647</td>\n",
       "      <td>1</td>\n",
       "      <td>2009</td>\n",
       "      <td>8</td>\n",
       "      <td>0</td>\n",
       "      <td>21</td>\n",
       "      <td>5.036377</td>\n",
       "      <td>0.042478</td>\n",
       "      <td>0.031877</td>\n",
       "    </tr>\n",
       "    <tr>\n",
       "      <th>3</th>\n",
       "      <td>5.3</td>\n",
       "      <td>-73.976124</td>\n",
       "      <td>40.790844</td>\n",
       "      <td>-73.965316</td>\n",
       "      <td>40.803349</td>\n",
       "      <td>3</td>\n",
       "      <td>2009</td>\n",
       "      <td>6</td>\n",
       "      <td>4</td>\n",
       "      <td>8</td>\n",
       "      <td>1.661683</td>\n",
       "      <td>0.010808</td>\n",
       "      <td>0.012505</td>\n",
       "    </tr>\n",
       "    <tr>\n",
       "      <th>4</th>\n",
       "      <td>16.0</td>\n",
       "      <td>-73.925023</td>\n",
       "      <td>40.744085</td>\n",
       "      <td>-73.973082</td>\n",
       "      <td>40.761247</td>\n",
       "      <td>5</td>\n",
       "      <td>2014</td>\n",
       "      <td>8</td>\n",
       "      <td>3</td>\n",
       "      <td>17</td>\n",
       "      <td>4.475450</td>\n",
       "      <td>0.048059</td>\n",
       "      <td>0.017162</td>\n",
       "    </tr>\n",
       "  </tbody>\n",
       "</table>\n",
       "</div>"
      ],
      "text/plain": [
       "   fare_amount  pickup_longitude  pickup_latitude  dropoff_longitude  \\\n",
       "0          7.5        -73.999817        40.738354         -73.999512   \n",
       "1          7.7        -73.994355        40.728225         -73.994710   \n",
       "2         12.9        -74.005043        40.740770         -73.962565   \n",
       "3          5.3        -73.976124        40.790844         -73.965316   \n",
       "4         16.0        -73.925023        40.744085         -73.973082   \n",
       "\n",
       "   dropoff_latitude  passenger_count  year  month  day  hour  Distance  \\\n",
       "0         40.723217                1  2015      5    3    19  1.683323   \n",
       "1         40.750325                1  2009      7    4    20  2.457590   \n",
       "2         40.772647                1  2009      8    0    21  5.036377   \n",
       "3         40.803349                3  2009      6    4     8  1.661683   \n",
       "4         40.761247                5  2014      8    3    17  4.475450   \n",
       "\n",
       "   abs_long   abs_lat  \n",
       "0  0.000305  0.015137  \n",
       "1  0.000355  0.022100  \n",
       "2  0.042478  0.031877  \n",
       "3  0.010808  0.012505  \n",
       "4  0.048059  0.017162  "
      ]
     },
     "execution_count": 174,
     "metadata": {},
     "output_type": "execute_result"
    }
   ],
   "source": [
    "#look at uber_df\n",
    "uber_df.head()"
   ]
  },
  {
   "cell_type": "markdown",
   "id": "81515230",
   "metadata": {},
   "source": [
    "## Visualize the features"
   ]
  },
  {
   "cell_type": "markdown",
   "id": "878bf4ec",
   "metadata": {},
   "source": [
    "I'm now going to visualize the features in the dataset. Visualizing the features is a crucial step in the exploratory data analysis (EDA) process. By visualizing the features, I can gain insights into the underlying patterns, relationships, and distributions of the variables.\n",
    "\n",
    "I'm going to visualize the features by looking at their boxplots and distributions. I can then remove outliers by using the interquartile range (IQR), and the first and third quartiles to measure the upper and lower threshold. I'm going to initially consider the data points outside of the range as outliers and remove them\n",
    "\n",
    "Outliers are data points that are significantly different from the rest of the data and can negatively impact the performance of your machine learning model. For example, outliers can lead to overfitting or biased results if they are not properly handled. Therefore, it is important to identify and remove outliers from your dataset before building a machine learning model."
   ]
  },
  {
   "cell_type": "markdown",
   "id": "64a6b058",
   "metadata": {},
   "source": [
    "### Analyze pickup_longitude"
   ]
  },
  {
   "cell_type": "code",
   "execution_count": 175,
   "id": "aff101e5",
   "metadata": {},
   "outputs": [
    {
     "data": {
      "text/plain": [
       "(-74.5, -73.5)"
      ]
     },
     "execution_count": 175,
     "metadata": {},
     "output_type": "execute_result"
    },
    {
     "data": {
      "image/png": "[encoded data removed]",
      "text/plain": [
       "<Figure size 432x288 with 1 Axes>"
      ]
     },
     "metadata": {},
     "output_type": "display_data"
    }
   ],
   "source": [
    "#visualize pickup_longitude\n",
    "sns.set_style(\"darkgrid\",{'axes.grid' : True})\n",
    "sns.boxplot(x=uber_df['pickup_longitude'], orient='h')\n",
    "plt.xlim(-74.5, -73.5)"
   ]
  },
  {
   "cell_type": "code",
   "execution_count": 176,
   "id": "1d6d3791",
   "metadata": {},
   "outputs": [
    {
     "name": "stdout",
     "output_type": "stream",
     "text": [
      "The first quartile value is -73.992064\n",
      "The third quartile value is -73.96715400000001\n",
      "The interquartile range is 0.024909999999991328\n",
      "The lower thresold is -74.029429\n",
      "The upper thresold is -73.92978900000003\n"
     ]
    }
   ],
   "source": [
    "#calculate different statistics\n",
    "median = np.median(uber_df['pickup_longitude'])\n",
    "std = np.std(uber_df['pickup_longitude'])\n",
    "mean = np.mean(uber_df['pickup_longitude'])\n",
    "Q1 = uber_df['pickup_longitude'].quantile(0.25)\n",
    "Q3 = uber_df['pickup_longitude'].quantile(0.75)\n",
    "IQR = Q3 - Q1\n",
    "lower_thresh = Q1 - (1.5 * IQR)\n",
    "upper_thresh = Q3 + (1.5 * IQR)\n",
    "print(f'The first quartile value is {Q1}')\n",
    "print(f'The third quartile value is {Q3}')\n",
    "print(f'The interquartile range is {IQR}')\n",
    "print(f'The lower thresold is {lower_thresh}')\n",
    "print(f'The upper thresold is {upper_thresh}')"
   ]
  },
  {
   "cell_type": "code",
   "execution_count": 177,
   "id": "1aa6c0b8",
   "metadata": {},
   "outputs": [
    {
     "data": {
      "text/plain": [
       "<AxesSubplot:xlabel='pickup_longitude', ylabel='Count'>"
      ]
     },
     "execution_count": 177,
     "metadata": {},
     "output_type": "execute_result"
    },
    {
     "data": {
      "image/png": "[encoded data removed]",
      "text/plain": [
       "<Figure size 432x288 with 1 Axes>"
      ]
     },
     "metadata": {},
     "output_type": "display_data"
    }
   ],
   "source": [
    "# check the distribution of the \"pickup_longitude\"\n",
    "sns.histplot(data=uber_df, x=\"pickup_longitude\", bins = 30)"
   ]
  },
  {
   "cell_type": "markdown",
   "id": "34a77406",
   "metadata": {},
   "source": [
    "We can see a small spike near 0 that is definitely an outlier"
   ]
  },
  {
   "cell_type": "markdown",
   "id": "ef648c7f",
   "metadata": {},
   "source": [
    "I used the coordinates for a bounding box from this [website](https://www.openstreetmap.org/export#map=8/52.154/5.295) to restrict it to New York City to better identify the trips that actually took place in the city. I drop any of the coordinates that are outside this range"
   ]
  },
  {
   "cell_type": "markdown",
   "id": "ac49112d",
   "metadata": {},
   "source": [
    "After looking at the boxplot and the the distribution, our main goal is to remove the values near 0. However, we should also remove the values that have values in the suburbs of New York as that might affect the fare."
   ]
  },
  {
   "cell_type": "code",
   "execution_count": 178,
   "id": "1feb871d",
   "metadata": {},
   "outputs": [
    {
     "name": "stdout",
     "output_type": "stream",
     "text": [
      "Number of samples before removing outliers: 199987\n",
      "Number of samples after removing outliers: 195891\n"
     ]
    }
   ],
   "source": [
    "#Remove outliers\n",
    "old_shape = uber_df.shape\n",
    "#Use the min, max values for longitude\n",
    "uber_df.drop(uber_df[(uber_df['pickup_longitude'] < -74.15) | (uber_df['pickup_longitude'] > -73.5)].index, inplace=True)\n",
    "print(f'Number of samples before removing outliers: {old_shape[0]}')\n",
    "print(f'Number of samples after removing outliers: {uber_df.shape[0]}')\n",
    "      "
   ]
  },
  {
   "cell_type": "code",
   "execution_count": 179,
   "id": "a052698c",
   "metadata": {},
   "outputs": [
    {
     "data": {
      "text/plain": [
       "<AxesSubplot:xlabel='pickup_longitude', ylabel='Count'>"
      ]
     },
     "execution_count": 179,
     "metadata": {},
     "output_type": "execute_result"
    },
    {
     "data": {
      "image/png": "[encoded data removed]",
      "text/plain": [
       "<Figure size 432x288 with 1 Axes>"
      ]
     },
     "metadata": {},
     "output_type": "display_data"
    }
   ],
   "source": [
    "#Look at new distribution\n",
    "sns.histplot(data=uber_df, x=\"pickup_longitude\", bins = 10)"
   ]
  },
  {
   "cell_type": "markdown",
   "id": "f7b710c0",
   "metadata": {},
   "source": [
    "The distrubiton of values is more centered and the outliers near 0 have been removed"
   ]
  },
  {
   "cell_type": "markdown",
   "id": "e33ff788",
   "metadata": {},
   "source": [
    "### Analyze pickup_latitude"
   ]
  },
  {
   "cell_type": "code",
   "execution_count": 180,
   "id": "74660279",
   "metadata": {},
   "outputs": [
    {
     "data": {
      "text/plain": [
       "(40.0, 41.3)"
      ]
     },
     "execution_count": 180,
     "metadata": {},
     "output_type": "execute_result"
    },
    {
     "data": {
      "image/png": "[encoded data removed]",
      "text/plain": [
       "<Figure size 432x288 with 1 Axes>"
      ]
     },
     "metadata": {},
     "output_type": "display_data"
    }
   ],
   "source": [
    "sns.set_style(\"darkgrid\",{'axes.grid' : True})\n",
    "sns.boxplot(x=uber_df['pickup_latitude'], orient='h')\n",
    "plt.xlim(40, 41.3)"
   ]
  },
  {
   "cell_type": "code",
   "execution_count": 181,
   "id": "60765f79",
   "metadata": {},
   "outputs": [
    {
     "name": "stdout",
     "output_type": "stream",
     "text": [
      "The first quartile value is 40.736455\n",
      "The third quartile value is 40.767521\n",
      "The interquartile range is 0.031066000000002703\n",
      "The lower thresold is 40.68985599999999\n",
      "The upper thresold is 40.81412\n"
     ]
    }
   ],
   "source": [
    "median = np.median(uber_df['pickup_latitude'])\n",
    "std = np.std(uber_df['pickup_latitude'])\n",
    "mean = np.mean(uber_df['pickup_latitude'])\n",
    "Q1 = uber_df['pickup_latitude'].quantile(0.25)\n",
    "Q3 = uber_df['pickup_latitude'].quantile(0.75)\n",
    "IQR = Q3 - Q1\n",
    "lower_thresh = Q1 - (1.5 * IQR)\n",
    "upper_thresh = Q3 + (1.5 * IQR)\n",
    "print(f'The first quartile value is {Q1}')\n",
    "print(f'The third quartile value is {Q3}')\n",
    "print(f'The interquartile range is {IQR}')\n",
    "print(f'The lower thresold is {lower_thresh}')\n",
    "print(f'The upper thresold is {upper_thresh}')"
   ]
  },
  {
   "cell_type": "code",
   "execution_count": 182,
   "id": "c974aa5b",
   "metadata": {},
   "outputs": [
    {
     "data": {
      "text/plain": [
       "(40.0, 43.0)"
      ]
     },
     "execution_count": 182,
     "metadata": {},
     "output_type": "execute_result"
    },
    {
     "data": {
      "image/png": "[encoded data removed]",
      "text/plain": [
       "<Figure size 432x288 with 1 Axes>"
      ]
     },
     "metadata": {},
     "output_type": "display_data"
    }
   ],
   "source": [
    "sns.histplot(data=uber_df, x=\"pickup_latitude\", bins = 1000)\n",
    "plt.xlim(40, 43)"
   ]
  },
  {
   "cell_type": "markdown",
   "id": "1d5b4df4",
   "metadata": {},
   "source": [
    "We conduct a similar analysis for this variable as well and remove the coordinates that are near the suburbs"
   ]
  },
  {
   "cell_type": "code",
   "execution_count": 183,
   "id": "01861411",
   "metadata": {},
   "outputs": [
    {
     "name": "stdout",
     "output_type": "stream",
     "text": [
      "Number of samples before removing outliers: 195891\n",
      "Number of samples after removing outliers: 190015\n"
     ]
    }
   ],
   "source": [
    "old_shape = uber_df.shape\n",
    "#use maximum and minimum values for the latitudes in New York City\n",
    "uber_df.drop(uber_df[(uber_df['pickup_latitude'] < 40.7) | (uber_df['pickup_latitude'] > 41)].index, inplace=True)\n",
    "print(f'Number of samples before removing outliers: {old_shape[0]}')\n",
    "print(f'Number of samples after removing outliers: {uber_df.shape[0]}')"
   ]
  },
  {
   "cell_type": "code",
   "execution_count": 184,
   "id": "830e0777",
   "metadata": {},
   "outputs": [
    {
     "data": {
      "text/plain": [
       "<AxesSubplot:xlabel='pickup_latitude', ylabel='Count'>"
      ]
     },
     "execution_count": 184,
     "metadata": {},
     "output_type": "execute_result"
    },
    {
     "data": {
      "image/png": "[encoded data removed]",
      "text/plain": [
       "<Figure size 432x288 with 1 Axes>"
      ]
     },
     "metadata": {},
     "output_type": "display_data"
    }
   ],
   "source": [
    "#Look at new distrubiton\n",
    "sns.histplot(data=uber_df, x=\"pickup_latitude\", bins = 10)"
   ]
  },
  {
   "cell_type": "markdown",
   "id": "ba6a5d4b",
   "metadata": {},
   "source": [
    "Distribution is more normal"
   ]
  },
  {
   "cell_type": "markdown",
   "id": "cc101cd4",
   "metadata": {},
   "source": [
    "### Analyze dropoff_longitude"
   ]
  },
  {
   "cell_type": "markdown",
   "id": "4601fc32",
   "metadata": {},
   "source": [
    "Repeat the process for this variable as well"
   ]
  },
  {
   "cell_type": "code",
   "execution_count": 185,
   "id": "45a81e09",
   "metadata": {},
   "outputs": [
    {
     "data": {
      "text/plain": [
       "(-74.2, -73.7)"
      ]
     },
     "execution_count": 185,
     "metadata": {},
     "output_type": "execute_result"
    },
    {
     "data": {
      "image/png": "[encoded data removed]",
      "text/plain": [
       "<Figure size 432x288 with 1 Axes>"
      ]
     },
     "metadata": {},
     "output_type": "display_data"
    }
   ],
   "source": [
    "sns.set_style(\"darkgrid\",{'axes.grid' : True})\n",
    "sns.boxplot(x=uber_df['dropoff_longitude'], orient='h')\n",
    "plt.xlim(-74.2, -73.7)"
   ]
  },
  {
   "cell_type": "code",
   "execution_count": 186,
   "id": "7355e475",
   "metadata": {},
   "outputs": [
    {
     "name": "stdout",
     "output_type": "stream",
     "text": [
      "The first quartile value is -73.9916065\n",
      "The third quartile value is -73.965889\n",
      "The interquartile range is 0.02571749999999895\n",
      "The lower thresold is -74.03018275\n",
      "The upper thresold is -73.92731275\n"
     ]
    }
   ],
   "source": [
    "median = np.median(uber_df['dropoff_longitude'])\n",
    "std = np.std(uber_df['dropoff_longitude'])\n",
    "mean = np.mean(uber_df['dropoff_longitude'])\n",
    "Q1 = uber_df['dropoff_longitude'].quantile(0.25)\n",
    "Q3 = uber_df['dropoff_longitude'].quantile(0.75)\n",
    "IQR = Q3 - Q1\n",
    "lower_thresh = Q1 - (1.5 * IQR)\n",
    "upper_thresh = Q3 + (1.5 * IQR)\n",
    "print(f'The first quartile value is {Q1}')\n",
    "print(f'The third quartile value is {Q3}')\n",
    "print(f'The interquartile range is {IQR}')\n",
    "print(f'The lower thresold is {lower_thresh}')\n",
    "print(f'The upper thresold is {upper_thresh}')"
   ]
  },
  {
   "cell_type": "code",
   "execution_count": 187,
   "id": "9809488a",
   "metadata": {},
   "outputs": [
    {
     "data": {
      "text/plain": [
       "(-74.4, -73.6)"
      ]
     },
     "execution_count": 187,
     "metadata": {},
     "output_type": "execute_result"
    },
    {
     "data": {
      "image/png": "[encoded data removed]",
      "text/plain": [
       "<Figure size 432x288 with 1 Axes>"
      ]
     },
     "metadata": {},
     "output_type": "display_data"
    }
   ],
   "source": [
    "sns.histplot(data=uber_df, x=\"dropoff_longitude\", bins = 1000)\n",
    "plt.xlim(-74.4, -73.6)"
   ]
  },
  {
   "cell_type": "code",
   "execution_count": 188,
   "id": "2957024e",
   "metadata": {},
   "outputs": [
    {
     "name": "stdout",
     "output_type": "stream",
     "text": [
      "Number of samples before removing outliers: 190015\n",
      "Number of samples after removing outliers: 189540\n"
     ]
    }
   ],
   "source": [
    "old_shape = uber_df.shape\n",
    "uber_df.drop(uber_df[(uber_df['dropoff_longitude'] < -74.15) | (uber_df['dropoff_longitude'] > -73.5)].index, inplace=True)\n",
    "print(f'Number of samples before removing outliers: {old_shape[0]}')\n",
    "print(f'Number of samples after removing outliers: {uber_df.shape[0]}')"
   ]
  },
  {
   "cell_type": "code",
   "execution_count": 189,
   "id": "b5ead658",
   "metadata": {},
   "outputs": [
    {
     "data": {
      "text/plain": [
       "(-74.4, -73.6)"
      ]
     },
     "execution_count": 189,
     "metadata": {},
     "output_type": "execute_result"
    },
    {
     "data": {
      "image/png": "[encoded data removed]",
      "text/plain": [
       "<Figure size 432x288 with 1 Axes>"
      ]
     },
     "metadata": {},
     "output_type": "display_data"
    }
   ],
   "source": [
    "sns.histplot(data=uber_df, x=\"dropoff_longitude\", bins = 5)\n",
    "plt.xlim(-74.4, -73.6)"
   ]
  },
  {
   "cell_type": "markdown",
   "id": "505e207b",
   "metadata": {},
   "source": [
    "### Analyze dropoff_latitude"
   ]
  },
  {
   "cell_type": "code",
   "execution_count": 190,
   "id": "7cafc12b",
   "metadata": {},
   "outputs": [
    {
     "data": {
      "text/plain": [
       "(40.5, 41.6)"
      ]
     },
     "execution_count": 190,
     "metadata": {},
     "output_type": "execute_result"
    },
    {
     "data": {
      "image/png": "[encoded data removed]",
      "text/plain": [
       "<Figure size 432x288 with 1 Axes>"
      ]
     },
     "metadata": {},
     "output_type": "display_data"
    }
   ],
   "source": [
    "sns.set_style(\"darkgrid\",{'axes.grid' : True})\n",
    "sns.boxplot(x=uber_df['dropoff_latitude'], orient='h')\n",
    "plt.xlim(40.5, 41.6)"
   ]
  },
  {
   "cell_type": "code",
   "execution_count": 191,
   "id": "29e6c3f9",
   "metadata": {},
   "outputs": [
    {
     "name": "stdout",
     "output_type": "stream",
     "text": [
      "The first quartile value is 40.736725\n",
      "The third quartile value is 40.7685776817627\n",
      "The interquartile range is 0.031852681762700286\n",
      "The lower thresold is 40.68894597735595\n",
      "The upper thresold is 40.81635670440675\n"
     ]
    }
   ],
   "source": [
    "median = np.median(uber_df['dropoff_latitude'])\n",
    "std = np.std(uber_df['dropoff_latitude'])\n",
    "mean = np.mean(uber_df['dropoff_latitude'])\n",
    "Q1 = uber_df['dropoff_latitude'].quantile(0.25)\n",
    "Q3 = uber_df['dropoff_latitude'].quantile(0.75)\n",
    "IQR = Q3 - Q1\n",
    "lower_thresh = Q1 - (1.5 * IQR)\n",
    "upper_thresh = Q3 + (1.5 * IQR)\n",
    "print(f'The first quartile value is {Q1}')\n",
    "print(f'The third quartile value is {Q3}')\n",
    "print(f'The interquartile range is {IQR}')\n",
    "print(f'The lower thresold is {lower_thresh}')\n",
    "print(f'The upper thresold is {upper_thresh}')"
   ]
  },
  {
   "cell_type": "code",
   "execution_count": 192,
   "id": "4835b88d",
   "metadata": {},
   "outputs": [
    {
     "data": {
      "text/plain": [
       "(40.4, 41.0)"
      ]
     },
     "execution_count": 192,
     "metadata": {},
     "output_type": "execute_result"
    },
    {
     "data": {
      "image/png": "[encoded data removed]",
      "text/plain": [
       "<Figure size 432x288 with 1 Axes>"
      ]
     },
     "metadata": {},
     "output_type": "display_data"
    }
   ],
   "source": [
    "sns.histplot(data=uber_df, x=\"dropoff_latitude\", bins = 1000)\n",
    "plt.xlim(40.4, 41)"
   ]
  },
  {
   "cell_type": "code",
   "execution_count": 193,
   "id": "70a16616",
   "metadata": {},
   "outputs": [
    {
     "name": "stdout",
     "output_type": "stream",
     "text": [
      "Number of samples before removing outliers: 189540\n",
      "Number of samples after removing outliers: 183254\n"
     ]
    }
   ],
   "source": [
    "old_shape = uber_df.shape\n",
    "uber_df.drop(uber_df[(uber_df['dropoff_latitude'] < 40.7) | (uber_df['dropoff_latitude'] > 41)].index, inplace=True)\n",
    "print(f'Number of samples before removing outliers: {old_shape[0]}')\n",
    "print(f'Number of samples after removing outliers: {uber_df.shape[0]}')"
   ]
  },
  {
   "cell_type": "code",
   "execution_count": 194,
   "id": "6a7227e7",
   "metadata": {},
   "outputs": [
    {
     "data": {
      "text/plain": [
       "(40.4, 41.0)"
      ]
     },
     "execution_count": 194,
     "metadata": {},
     "output_type": "execute_result"
    },
    {
     "data": {
      "image/png": "[encoded data removed]",
      "text/plain": [
       "<Figure size 432x288 with 1 Axes>"
      ]
     },
     "metadata": {},
     "output_type": "display_data"
    }
   ],
   "source": [
    "sns.histplot(data=uber_df, x=\"dropoff_latitude\", bins = 6)\n",
    "plt.xlim(40.4, 41)"
   ]
  },
  {
   "cell_type": "markdown",
   "id": "827e1f6f",
   "metadata": {},
   "source": [
    "### Analyze fare_amount"
   ]
  },
  {
   "cell_type": "code",
   "execution_count": 195,
   "id": "4970264e",
   "metadata": {},
   "outputs": [
    {
     "data": {
      "text/plain": [
       "(-10.0, 100.0)"
      ]
     },
     "execution_count": 195,
     "metadata": {},
     "output_type": "execute_result"
    },
    {
     "data": {
      "image/png": "[encoded data removed]",
      "text/plain": [
       "<Figure size 432x288 with 1 Axes>"
      ]
     },
     "metadata": {},
     "output_type": "display_data"
    }
   ],
   "source": [
    "sns.set_style(\"darkgrid\",{'axes.grid' : True})\n",
    "sns.boxplot(x=uber_df['fare_amount'], orient='h')\n",
    "plt.xlim(-10, 100)"
   ]
  },
  {
   "cell_type": "code",
   "execution_count": 196,
   "id": "63ab120f",
   "metadata": {},
   "outputs": [
    {
     "name": "stdout",
     "output_type": "stream",
     "text": [
      "The first quartile value is 6.0\n",
      "The third quartile value is 11.7\n",
      "The interquartile range is 5.699999999999999\n",
      "The lower thresold is -2.549999999999999\n",
      "The upper thresold is 20.25\n"
     ]
    }
   ],
   "source": [
    "median = np.median(uber_df['fare_amount'])\n",
    "std = np.std(uber_df['fare_amount'])\n",
    "mean = np.mean(uber_df['fare_amount'])\n",
    "Q1 = uber_df['fare_amount'].quantile(0.25)\n",
    "Q3 = uber_df['fare_amount'].quantile(0.75)\n",
    "IQR = Q3 - Q1\n",
    "lower_thresh = Q1 - (1.5 * IQR)\n",
    "upper_thresh = Q3 + (1.5 * IQR)\n",
    "print(f'The first quartile value is {Q1}')\n",
    "print(f'The third quartile value is {Q3}')\n",
    "print(f'The interquartile range is {IQR}')\n",
    "print(f'The lower thresold is {lower_thresh}')\n",
    "print(f'The upper thresold is {upper_thresh}')"
   ]
  },
  {
   "cell_type": "markdown",
   "id": "2117c334",
   "metadata": {},
   "source": [
    "For the fares we remove the values that have fares with a value of 0 or less than that as those are unrealistic. Since we do not have too many values with a large fare and we have already removed the outliers in the coordinates, we will remove fares greater than 70 because they are outliers that will affect the model"
   ]
  },
  {
   "cell_type": "code",
   "execution_count": 197,
   "id": "c7797193",
   "metadata": {},
   "outputs": [
    {
     "name": "stdout",
     "output_type": "stream",
     "text": [
      "Number of samples before removing outliers: 183254\n",
      "Number of samples after removing outliers: 183165\n"
     ]
    }
   ],
   "source": [
    "old_shape = uber_df.shape\n",
    "#remove values where fare is less than or equal to zero as they are not realistic\n",
    "uber_df.drop(uber_df[(uber_df['fare_amount'] <= 0) | (uber_df['fare_amount'] > 70)].index, inplace=True)\n",
    "print(f'Number of samples before removing outliers: {old_shape[0]}')\n",
    "print(f'Number of samples after removing outliers: {uber_df.shape[0]}')"
   ]
  },
  {
   "cell_type": "markdown",
   "id": "decff468",
   "metadata": {},
   "source": [
    "We will now look at the other features that could be treated as either numerical or categorical variables depending on the use of that feature. I plot the feature against the fare_amount to see how the fare_amount differs for every category and I also plot the number of samples for each category"
   ]
  },
  {
   "cell_type": "markdown",
   "id": "d0d98349",
   "metadata": {},
   "source": [
    "### Analyze Hour"
   ]
  },
  {
   "cell_type": "code",
   "execution_count": 198,
   "id": "887e4d85",
   "metadata": {},
   "outputs": [
    {
     "data": {
      "text/plain": [
       "19    11669\n",
       "18    11239\n",
       "20    10730\n",
       "21    10371\n",
       "22     9880\n",
       "13     9335\n",
       "12     9333\n",
       "14     9041\n",
       "17     9003\n",
       "15     8877\n",
       "11     8845\n",
       "9      8834\n",
       "23     8675\n",
       "8      8523\n",
       "10     8454\n",
       "16     7640\n",
       "0      6885\n",
       "7      6662\n",
       "1      5147\n",
       "2      3855\n",
       "6      3728\n",
       "3      2842\n",
       "4      1994\n",
       "5      1603\n",
       "Name: hour, dtype: int64"
      ]
     },
     "execution_count": 198,
     "metadata": {},
     "output_type": "execute_result"
    }
   ],
   "source": [
    "uber_df['hour'].value_counts()"
   ]
  },
  {
   "cell_type": "code",
   "execution_count": 199,
   "id": "9739d990",
   "metadata": {},
   "outputs": [
    {
     "data": {
      "image/png": "[encoded data removed]",
      "text/plain": [
       "<Figure size 1080x360 with 1 Axes>"
      ]
     },
     "metadata": {},
     "output_type": "display_data"
    },
    {
     "data": {
      "image/png": "[encoded data removed]",
      "text/plain": [
       "<Figure size 1080x360 with 1 Axes>"
      ]
     },
     "metadata": {},
     "output_type": "display_data"
    }
   ],
   "source": [
    "sns.catplot(x=\"hour\", y=\"fare_amount\",  data=uber_df, kind=\"bar\", aspect=3)\n",
    "sns.catplot(x=\"hour\", kind='count' ,  data=uber_df, aspect=3)\n",
    "sns.despine()\n",
    "plt.show()"
   ]
  },
  {
   "cell_type": "markdown",
   "id": "f1b8a2cb",
   "metadata": {},
   "source": [
    "We can see that the number of cabs recorded to be taken in hours 2-8 are lower than the rest. They also tend to have the highest fare_amount"
   ]
  },
  {
   "cell_type": "markdown",
   "id": "54534986",
   "metadata": {},
   "source": [
    "### Analyze year"
   ]
  },
  {
   "cell_type": "code",
   "execution_count": 200,
   "id": "bb07bca6",
   "metadata": {},
   "outputs": [
    {
     "data": {
      "text/plain": [
       "2012    29500\n",
       "2011    29213\n",
       "2009    28453\n",
       "2013    28393\n",
       "2010    27788\n",
       "2014    27249\n",
       "2015    12569\n",
       "Name: year, dtype: int64"
      ]
     },
     "execution_count": 200,
     "metadata": {},
     "output_type": "execute_result"
    }
   ],
   "source": [
    "#Look at the values of the Year column\n",
    "uber_df.year.value_counts()"
   ]
  },
  {
   "cell_type": "markdown",
   "id": "a623a74e",
   "metadata": {},
   "source": [
    "We can see that all the values were measure within the years 2009 to 2015."
   ]
  },
  {
   "cell_type": "code",
   "execution_count": 201,
   "id": "1e1aead5",
   "metadata": {},
   "outputs": [
    {
     "data": {
      "image/png": "[encoded data removed]",
      "text/plain": [
       "<Figure size 1080x360 with 1 Axes>"
      ]
     },
     "metadata": {},
     "output_type": "display_data"
    },
    {
     "data": {
      "image/png": "[encoded data removed]",
      "text/plain": [
       "<Figure size 1080x360 with 1 Axes>"
      ]
     },
     "metadata": {},
     "output_type": "display_data"
    }
   ],
   "source": [
    "sns.catplot(x=\"year\", y=\"fare_amount\",  data=uber_df, kind=\"bar\", aspect=3)\n",
    "sns.catplot(x=\"year\", kind='count' ,  data=uber_df, aspect=3)\n",
    "sns.despine()\n",
    "plt.show()"
   ]
  },
  {
   "cell_type": "markdown",
   "id": "9a64f54d",
   "metadata": {},
   "source": [
    "In the case of samples with year 2015 having half the number of samples as the other categories, it is possible that there was a change in the data collection process or a reduction in the number of observations during that year. However, if the data from 2015 is still representative of the overall population and there are no major discrepancies in the data collection process, then dropping these samples could result in a loss of valuable information and bias the results of your analysis. So we will still consider that category for the moment"
   ]
  },
  {
   "cell_type": "markdown",
   "id": "58941da1",
   "metadata": {},
   "source": [
    "### Analyze day"
   ]
  },
  {
   "cell_type": "code",
   "execution_count": 202,
   "id": "39032dd1",
   "metadata": {},
   "outputs": [
    {
     "data": {
      "text/plain": [
       "4    28360\n",
       "5    27648\n",
       "3    27596\n",
       "2    26692\n",
       "1    25980\n",
       "6    23762\n",
       "0    23127\n",
       "Name: day, dtype: int64"
      ]
     },
     "execution_count": 202,
     "metadata": {},
     "output_type": "execute_result"
    }
   ],
   "source": [
    "#Repeat for Day\n",
    "uber_df.day.value_counts()"
   ]
  },
  {
   "cell_type": "code",
   "execution_count": 203,
   "id": "c891c69b",
   "metadata": {},
   "outputs": [
    {
     "data": {
      "image/png": "[encoded data removed]",
      "text/plain": [
       "<Figure size 1080x360 with 1 Axes>"
      ]
     },
     "metadata": {},
     "output_type": "display_data"
    },
    {
     "data": {
      "image/png": "[encoded data removed]",
      "text/plain": [
       "<Figure size 1080x360 with 1 Axes>"
      ]
     },
     "metadata": {},
     "output_type": "display_data"
    }
   ],
   "source": [
    "sns.catplot(x=\"day\", y=\"fare_amount\",  data=uber_df, kind=\"bar\", aspect=3)\n",
    "sns.catplot(x=\"day\", kind='count' ,  data=uber_df, aspect=3)\n",
    "sns.despine()\n",
    "plt.show()"
   ]
  },
  {
   "cell_type": "markdown",
   "id": "1187871a",
   "metadata": {},
   "source": [
    "There are fewer cab rides recorded on Monday and Sunday, but the fare_amount for each day remains relatively the same"
   ]
  },
  {
   "cell_type": "markdown",
   "id": "d56402d7",
   "metadata": {},
   "source": [
    "### Analyze Month"
   ]
  },
  {
   "cell_type": "code",
   "execution_count": 204,
   "id": "5b724074",
   "metadata": {},
   "outputs": [
    {
     "data": {
      "text/plain": [
       "3     17266\n",
       "5     17085\n",
       "4     17012\n",
       "1     16306\n",
       "6     16279\n",
       "2     15305\n",
       "10    14855\n",
       "12    14284\n",
       "11    14066\n",
       "9     13984\n",
       "7     13801\n",
       "8     12922\n",
       "Name: month, dtype: int64"
      ]
     },
     "execution_count": 204,
     "metadata": {},
     "output_type": "execute_result"
    }
   ],
   "source": [
    "#do the same for Month\n",
    "uber_df['month'].value_counts()"
   ]
  },
  {
   "cell_type": "code",
   "execution_count": 205,
   "id": "1ec3c0db",
   "metadata": {},
   "outputs": [
    {
     "data": {
      "image/png": "[encoded data removed]",
      "text/plain": [
       "<Figure size 1080x360 with 1 Axes>"
      ]
     },
     "metadata": {},
     "output_type": "display_data"
    },
    {
     "data": {
      "image/png": "[encoded data removed]",
      "text/plain": [
       "<Figure size 1080x360 with 1 Axes>"
      ]
     },
     "metadata": {},
     "output_type": "display_data"
    }
   ],
   "source": [
    "sns.catplot(x=\"month\", y=\"fare_amount\",  data=uber_df, kind=\"bar\", aspect=3)\n",
    "sns.catplot(x=\"month\", kind='count' ,  data=uber_df, aspect=3)\n",
    "sns.despine()\n",
    "plt.show()"
   ]
  },
  {
   "cell_type": "markdown",
   "id": "a6eff749",
   "metadata": {},
   "source": [
    "### Analyze passenger_count"
   ]
  },
  {
   "cell_type": "code",
   "execution_count": 206,
   "id": "10d366c9",
   "metadata": {},
   "outputs": [
    {
     "data": {
      "image/png": "[encoded data removed]",
      "text/plain": [
       "<Figure size 1080x360 with 1 Axes>"
      ]
     },
     "metadata": {},
     "output_type": "display_data"
    },
    {
     "data": {
      "image/png": "[encoded data removed]",
      "text/plain": [
       "<Figure size 1080x360 with 1 Axes>"
      ]
     },
     "metadata": {},
     "output_type": "display_data"
    }
   ],
   "source": [
    "sns.catplot(x=\"passenger_count\", y=\"fare_amount\",  data=uber_df, kind=\"bar\", aspect=3)\n",
    "sns.catplot(x=\"passenger_count\", kind='count' ,  data=uber_df, aspect=3)\n",
    "sns.despine()\n",
    "plt.show()"
   ]
  },
  {
   "cell_type": "markdown",
   "id": "92f079fb",
   "metadata": {},
   "source": [
    "Since the samples with 208 passengers is unrealistic, we will drop it"
   ]
  },
  {
   "cell_type": "code",
   "execution_count": 207,
   "id": "c825be3d",
   "metadata": {},
   "outputs": [
    {
     "data": {
      "text/html": [
       "<div>\n",
       "<style scoped>\n",
       "    .dataframe tbody tr th:only-of-type {\n",
       "        vertical-align: middle;\n",
       "    }\n",
       "\n",
       "    .dataframe tbody tr th {\n",
       "        vertical-align: top;\n",
       "    }\n",
       "\n",
       "    .dataframe thead th {\n",
       "        text-align: right;\n",
       "    }\n",
       "</style>\n",
       "<table border=\"1\" class=\"dataframe\">\n",
       "  <thead>\n",
       "    <tr style=\"text-align: right;\">\n",
       "      <th></th>\n",
       "      <th>fare_amount</th>\n",
       "      <th>pickup_longitude</th>\n",
       "      <th>pickup_latitude</th>\n",
       "      <th>dropoff_longitude</th>\n",
       "      <th>dropoff_latitude</th>\n",
       "      <th>passenger_count</th>\n",
       "      <th>year</th>\n",
       "      <th>month</th>\n",
       "      <th>day</th>\n",
       "      <th>hour</th>\n",
       "      <th>Distance</th>\n",
       "      <th>abs_long</th>\n",
       "      <th>abs_lat</th>\n",
       "    </tr>\n",
       "  </thead>\n",
       "  <tbody>\n",
       "    <tr>\n",
       "      <th>113038</th>\n",
       "      <td>11.7</td>\n",
       "      <td>-73.937795</td>\n",
       "      <td>40.758498</td>\n",
       "      <td>-73.937835</td>\n",
       "      <td>40.758415</td>\n",
       "      <td>208</td>\n",
       "      <td>2010</td>\n",
       "      <td>12</td>\n",
       "      <td>1</td>\n",
       "      <td>8</td>\n",
       "      <td>0.009825</td>\n",
       "      <td>0.00004</td>\n",
       "      <td>0.000083</td>\n",
       "    </tr>\n",
       "  </tbody>\n",
       "</table>\n",
       "</div>"
      ],
      "text/plain": [
       "        fare_amount  pickup_longitude  pickup_latitude  dropoff_longitude  \\\n",
       "113038         11.7        -73.937795        40.758498         -73.937835   \n",
       "\n",
       "        dropoff_latitude  passenger_count  year  month  day  hour  Distance  \\\n",
       "113038         40.758415              208  2010     12    1     8  0.009825   \n",
       "\n",
       "        abs_long   abs_lat  \n",
       "113038   0.00004  0.000083  "
      ]
     },
     "execution_count": 207,
     "metadata": {},
     "output_type": "execute_result"
    }
   ],
   "source": [
    "#Look at sample with 208 passengers\n",
    "uber_df[uber_df.passenger_count == 208]"
   ]
  },
  {
   "cell_type": "code",
   "execution_count": 208,
   "id": "203c6626",
   "metadata": {},
   "outputs": [
    {
     "name": "stdout",
     "output_type": "stream",
     "text": [
      "(183165, 13) (183164, 13)\n"
     ]
    }
   ],
   "source": [
    "old_shape = uber_df.shape\n",
    "uber_df.drop(uber_df[(uber_df['passenger_count'] == 208)].index, inplace=True)\n",
    "print(old_shape, uber_df.shape)"
   ]
  },
  {
   "cell_type": "markdown",
   "id": "ff87966e",
   "metadata": {},
   "source": [
    "We will also drop samples with 0 passengers since it is also unrealistic"
   ]
  },
  {
   "cell_type": "code",
   "execution_count": 209,
   "id": "6343d2c7",
   "metadata": {},
   "outputs": [
    {
     "name": "stdout",
     "output_type": "stream",
     "text": [
      "(183164, 13) (182513, 13)\n"
     ]
    }
   ],
   "source": [
    "#drop values with 0 passengers\n",
    "old_shape = uber_df.shape\n",
    "uber_df.drop(uber_df[(uber_df['passenger_count'] == 0)].index, inplace=True)\n",
    "print(old_shape, uber_df.shape)"
   ]
  },
  {
   "cell_type": "markdown",
   "id": "bbac6f56",
   "metadata": {},
   "source": [
    "### Analyze Distance"
   ]
  },
  {
   "cell_type": "code",
   "execution_count": 210,
   "id": "9b4738e8",
   "metadata": {},
   "outputs": [
    {
     "data": {
      "text/plain": [
       "count    182513.000000\n",
       "mean          2.805708\n",
       "std           2.439261\n",
       "min           0.000000\n",
       "25%           1.221637\n",
       "50%           2.048007\n",
       "75%           3.523745\n",
       "max          32.375424\n",
       "Name: Distance, dtype: float64"
      ]
     },
     "execution_count": 210,
     "metadata": {},
     "output_type": "execute_result"
    }
   ],
   "source": [
    "uber_df['Distance'].describe()"
   ]
  },
  {
   "cell_type": "code",
   "execution_count": 211,
   "id": "8d5d9920",
   "metadata": {},
   "outputs": [
    {
     "data": {
      "text/plain": [
       "<AxesSubplot:xlabel='Distance'>"
      ]
     },
     "execution_count": 211,
     "metadata": {},
     "output_type": "execute_result"
    },
    {
     "data": {
      "image/png": "[encoded data removed]",
      "text/plain": [
       "<Figure size 432x288 with 1 Axes>"
      ]
     },
     "metadata": {},
     "output_type": "display_data"
    }
   ],
   "source": [
    "sns.set_style(\"darkgrid\",{'axes.grid' : True})\n",
    "sns.boxplot(x=uber_df['Distance'], orient='h')"
   ]
  },
  {
   "cell_type": "code",
   "execution_count": 212,
   "id": "a15ceae4",
   "metadata": {
    "scrolled": false
   },
   "outputs": [
    {
     "data": {
      "text/plain": [
       "<AxesSubplot:xlabel='Distance', ylabel='Count'>"
      ]
     },
     "execution_count": 212,
     "metadata": {},
     "output_type": "execute_result"
    },
    {
     "data": {
      "image/png": "[encoded data removed]",
      "text/plain": [
       "<Figure size 432x288 with 1 Axes>"
      ]
     },
     "metadata": {},
     "output_type": "display_data"
    }
   ],
   "source": [
    "sns.histplot(data=uber_df, x=\"Distance\")"
   ]
  },
  {
   "cell_type": "code",
   "execution_count": 213,
   "id": "f90d92cf",
   "metadata": {},
   "outputs": [
    {
     "name": "stdout",
     "output_type": "stream",
     "text": [
      "The first quartile value is 1.2216369120859962\n",
      "The third quartile value is 3.5237447869781384\n",
      "The interquartile range is 2.302107874892142\n",
      "The lower thresold is -2.231524900252217\n",
      "The upper thresold is 6.976906599316352\n"
     ]
    }
   ],
   "source": [
    "median = np.median(uber_df['Distance'])\n",
    "std = np.std(uber_df['Distance'])\n",
    "mean = np.mean(uber_df['Distance'])\n",
    "Q1 = uber_df['Distance'].quantile(0.25)\n",
    "Q3 = uber_df['Distance'].quantile(0.75)\n",
    "IQR = Q3 - Q1\n",
    "lower_thresh = Q1 - (1.5 * IQR)\n",
    "upper_thresh = Q3 + (1.5 * IQR)\n",
    "print(f'The first quartile value is {Q1}')\n",
    "print(f'The third quartile value is {Q3}')\n",
    "print(f'The interquartile range is {IQR}')\n",
    "print(f'The lower thresold is {lower_thresh}')\n",
    "print(f'The upper thresold is {upper_thresh}')"
   ]
  },
  {
   "cell_type": "markdown",
   "id": "5b2c7d42",
   "metadata": {},
   "source": [
    "Remove the values that have distance of 0 because they are not accurate and will affect our model"
   ]
  },
  {
   "cell_type": "code",
   "execution_count": 214,
   "id": "e8d1d005",
   "metadata": {},
   "outputs": [
    {
     "name": "stdout",
     "output_type": "stream",
     "text": [
      "Number of samples before removing outliers: 182513\n",
      "Number of samples after removing outliers: 180751\n"
     ]
    }
   ],
   "source": [
    "old_shape = uber_df.shape\n",
    "#remove values where fare is less than or equal to zero as they are not realistic\n",
    "uber_df.drop(uber_df[(uber_df['Distance'] <= 0)].index, inplace=True)\n",
    "print(f'Number of samples before removing outliers: {old_shape[0]}')\n",
    "print(f'Number of samples after removing outliers: {uber_df.shape[0]}')"
   ]
  },
  {
   "cell_type": "code",
   "execution_count": 215,
   "id": "cac6977c",
   "metadata": {},
   "outputs": [
    {
     "data": {
      "text/plain": [
       "<AxesSubplot:xlabel='Distance', ylabel='fare_amount'>"
      ]
     },
     "execution_count": 215,
     "metadata": {},
     "output_type": "execute_result"
    },
    {
     "data": {
      "image/png": "[encoded data removed]",
      "text/plain": [
       "<Figure size 432x288 with 1 Axes>"
      ]
     },
     "metadata": {},
     "output_type": "display_data"
    }
   ],
   "source": [
    "sns.scatterplot(data=uber_df, x=\"Distance\", y=\"fare_amount\")"
   ]
  },
  {
   "cell_type": "markdown",
   "id": "5f6f0c95",
   "metadata": {},
   "source": [
    "### Visualize fare_amount"
   ]
  },
  {
   "cell_type": "code",
   "execution_count": 216,
   "id": "b5ae9ecf",
   "metadata": {},
   "outputs": [
    {
     "data": {
      "text/plain": [
       "<seaborn.axisgrid.FacetGrid at 0x7f811a502af0>"
      ]
     },
     "execution_count": 216,
     "metadata": {},
     "output_type": "execute_result"
    },
    {
     "data": {
      "image/png": "[encoded data removed]",
      "text/plain": [
       "<Figure size 360x360 with 1 Axes>"
      ]
     },
     "metadata": {},
     "output_type": "display_data"
    }
   ],
   "source": [
    "sns.displot(uber_df.fare_amount, bins = 20)"
   ]
  },
  {
   "cell_type": "markdown",
   "id": "6f087f35",
   "metadata": {},
   "source": [
    "We can see a peak in the fare_amount at around $5-10 and so most of the fares are less than 20"
   ]
  },
  {
   "cell_type": "markdown",
   "id": "5206f94f",
   "metadata": {},
   "source": [
    "### Drop Variables"
   ]
  },
  {
   "cell_type": "code",
   "execution_count": 217,
   "id": "ef3bd375",
   "metadata": {},
   "outputs": [
    {
     "data": {
      "image/png": "[encoded data removed]",
      "text/plain": [
       "<Figure size 1152x576 with 2 Axes>"
      ]
     },
     "metadata": {},
     "output_type": "display_data"
    }
   ],
   "source": [
    "plt.figure(figsize=(16, 8))\n",
    "heatmap = sns.heatmap(uber_df.corr(), vmin=-1, vmax=1, annot=True)\n",
    "heatmap.set_title('Correlation Heatmap', fontdict={'fontsize':14}, pad=12);"
   ]
  },
  {
   "cell_type": "markdown",
   "id": "066d9b68",
   "metadata": {},
   "source": [
    "From the heatmap we can see that there is multicollinearity between various variables, especially the ones judging the distance. Since I have calculated the distance using the formula, I no longer need the coordinates so we can drop those columns. Even the abs_long and abs_lat columns are correlated and since we don't gain any new information from those columns we can drop those as well"
   ]
  },
  {
   "cell_type": "code",
   "execution_count": 218,
   "id": "2e9b797f",
   "metadata": {},
   "outputs": [],
   "source": [
    "uber_df.drop(columns = ['pickup_longitude', 'pickup_latitude',\n",
    "                                                'dropoff_longitude', 'dropoff_latitude', 'abs_long',\n",
    "                                               'abs_lat'], inplace = True)"
   ]
  },
  {
   "cell_type": "code",
   "execution_count": 219,
   "id": "817668c0",
   "metadata": {},
   "outputs": [
    {
     "data": {
      "image/png": "[encoded data removed]",
      "text/plain": [
       "<Figure size 1152x576 with 2 Axes>"
      ]
     },
     "metadata": {},
     "output_type": "display_data"
    }
   ],
   "source": [
    "plt.figure(figsize=(16, 8))\n",
    "heatmap = sns.heatmap(uber_df.corr(), vmin=-1, vmax=1, annot=True)\n",
    "heatmap.set_title('Correlation Heatmap', fontdict={'fontsize':14}, pad=12);"
   ]
  },
  {
   "cell_type": "markdown",
   "id": "ae17bbe9",
   "metadata": {},
   "source": [
    "### New columns exploration"
   ]
  },
  {
   "cell_type": "markdown",
   "id": "f9f3be90",
   "metadata": {},
   "source": [
    "To explore the data further, I tried to group different months together and the hours of the day together as well. A new dataframe with the same data as our origional dataframe is created and I mapped the values of the mont into quarters. I mapped hour values of the day into 6 segments. I then used one-hot-encoding to check if there was any correlation"
   ]
  },
  {
   "cell_type": "code",
   "execution_count": 220,
   "id": "1c2536e1",
   "metadata": {},
   "outputs": [],
   "source": [
    "#create new df\n",
    "new_df = uber_df.copy(deep=True)"
   ]
  },
  {
   "cell_type": "code",
   "execution_count": 221,
   "id": "5e724e7e",
   "metadata": {},
   "outputs": [],
   "source": [
    "#map months into quarters\n",
    "new_df['monthly_quarter'] = uber_df.month.map({1:'Q1',2:'Q1',3:'Q1',4:'Q2',5:'Q2',6:'Q2',7:'Q3',\n",
    "                                      8:'Q3',9:'Q3',10:'Q4',11:'Q4',12:'Q4'})"
   ]
  },
  {
   "cell_type": "code",
   "execution_count": 222,
   "id": "aea204ab",
   "metadata": {},
   "outputs": [],
   "source": [
    "#map hours into 6 segments\n",
    "new_df['hourly_segments'] = uber_df.hour.map({0:'H1',1:'H1',2:'H1',3:'H1',4:'H2',5:'H2',6:'H2',7:'H2',8:'H3',\n",
    "                                     9:'H3',10:'H3',11:'H3',12:'H4',13:'H4',14:'H4',15:'H4',16:'H5',\n",
    "                                     17:'H5',18:'H5',19:'H5',20:'H6',21:'H6',22:'H6',23:'H6'})"
   ]
  },
  {
   "cell_type": "code",
   "execution_count": 223,
   "id": "606c56bd",
   "metadata": {},
   "outputs": [
    {
     "data": {
      "text/html": [
       "<div>\n",
       "<style scoped>\n",
       "    .dataframe tbody tr th:only-of-type {\n",
       "        vertical-align: middle;\n",
       "    }\n",
       "\n",
       "    .dataframe tbody tr th {\n",
       "        vertical-align: top;\n",
       "    }\n",
       "\n",
       "    .dataframe thead th {\n",
       "        text-align: right;\n",
       "    }\n",
       "</style>\n",
       "<table border=\"1\" class=\"dataframe\">\n",
       "  <thead>\n",
       "    <tr style=\"text-align: right;\">\n",
       "      <th></th>\n",
       "      <th>fare_amount</th>\n",
       "      <th>passenger_count</th>\n",
       "      <th>year</th>\n",
       "      <th>month</th>\n",
       "      <th>day</th>\n",
       "      <th>hour</th>\n",
       "      <th>Distance</th>\n",
       "      <th>monthly_quarter</th>\n",
       "      <th>hourly_segments</th>\n",
       "    </tr>\n",
       "  </thead>\n",
       "  <tbody>\n",
       "    <tr>\n",
       "      <th>0</th>\n",
       "      <td>7.5</td>\n",
       "      <td>1</td>\n",
       "      <td>2015</td>\n",
       "      <td>5</td>\n",
       "      <td>3</td>\n",
       "      <td>19</td>\n",
       "      <td>1.683323</td>\n",
       "      <td>Q2</td>\n",
       "      <td>H5</td>\n",
       "    </tr>\n",
       "    <tr>\n",
       "      <th>1</th>\n",
       "      <td>7.7</td>\n",
       "      <td>1</td>\n",
       "      <td>2009</td>\n",
       "      <td>7</td>\n",
       "      <td>4</td>\n",
       "      <td>20</td>\n",
       "      <td>2.457590</td>\n",
       "      <td>Q3</td>\n",
       "      <td>H6</td>\n",
       "    </tr>\n",
       "    <tr>\n",
       "      <th>2</th>\n",
       "      <td>12.9</td>\n",
       "      <td>1</td>\n",
       "      <td>2009</td>\n",
       "      <td>8</td>\n",
       "      <td>0</td>\n",
       "      <td>21</td>\n",
       "      <td>5.036377</td>\n",
       "      <td>Q3</td>\n",
       "      <td>H6</td>\n",
       "    </tr>\n",
       "    <tr>\n",
       "      <th>3</th>\n",
       "      <td>5.3</td>\n",
       "      <td>3</td>\n",
       "      <td>2009</td>\n",
       "      <td>6</td>\n",
       "      <td>4</td>\n",
       "      <td>8</td>\n",
       "      <td>1.661683</td>\n",
       "      <td>Q2</td>\n",
       "      <td>H3</td>\n",
       "    </tr>\n",
       "    <tr>\n",
       "      <th>4</th>\n",
       "      <td>16.0</td>\n",
       "      <td>5</td>\n",
       "      <td>2014</td>\n",
       "      <td>8</td>\n",
       "      <td>3</td>\n",
       "      <td>17</td>\n",
       "      <td>4.475450</td>\n",
       "      <td>Q3</td>\n",
       "      <td>H5</td>\n",
       "    </tr>\n",
       "  </tbody>\n",
       "</table>\n",
       "</div>"
      ],
      "text/plain": [
       "   fare_amount  passenger_count  year  month  day  hour  Distance  \\\n",
       "0          7.5                1  2015      5    3    19  1.683323   \n",
       "1          7.7                1  2009      7    4    20  2.457590   \n",
       "2         12.9                1  2009      8    0    21  5.036377   \n",
       "3          5.3                3  2009      6    4     8  1.661683   \n",
       "4         16.0                5  2014      8    3    17  4.475450   \n",
       "\n",
       "  monthly_quarter hourly_segments  \n",
       "0              Q2              H5  \n",
       "1              Q3              H6  \n",
       "2              Q3              H6  \n",
       "3              Q2              H3  \n",
       "4              Q3              H5  "
      ]
     },
     "execution_count": 223,
     "metadata": {},
     "output_type": "execute_result"
    }
   ],
   "source": [
    "new_df.head()"
   ]
  },
  {
   "cell_type": "code",
   "execution_count": 232,
   "id": "f2a71dae",
   "metadata": {},
   "outputs": [],
   "source": [
    "new_df.drop(columns = ['hour', 'month'], inplace=True)"
   ]
  },
  {
   "cell_type": "code",
   "execution_count": 225,
   "id": "987b6b0b",
   "metadata": {},
   "outputs": [],
   "source": [
    "from sklearn.preprocessing import OneHotEncoder"
   ]
  },
  {
   "cell_type": "code",
   "execution_count": 226,
   "id": "48c0b25d",
   "metadata": {},
   "outputs": [],
   "source": [
    "#conduct one hot encoding on day column\n",
    "onehotencoder = OneHotEncoder(sparse=False)\n",
    "\n",
    "l = onehotencoder.fit_transform(new_df[['day']])\n",
    "\n",
    "encoded_data = pd.DataFrame(l, index=new_df.index, columns = ['isMon', 'isTues', 'isWed', 'isThur', 'isFri',\n",
    "                                                              'isSat', 'isSun'])\n",
    "new_df = pd.concat([new_df, encoded_data], axis=1)"
   ]
  },
  {
   "cell_type": "code",
   "execution_count": 227,
   "id": "96ab370c",
   "metadata": {},
   "outputs": [],
   "source": [
    "#conduct one hot encoding on monthly_quarter column\n",
    "onehotencoder = OneHotEncoder(sparse=False)\n",
    "l = onehotencoder.fit_transform(new_df[['monthly_quarter']])\n",
    "\n",
    "encoded_data = pd.DataFrame(l, index=new_df.index, columns = ['Q1', 'Q2', 'Q3', 'Q4'])\n",
    "new_df = pd.concat([new_df, encoded_data], axis=1)"
   ]
  },
  {
   "cell_type": "code",
   "execution_count": 228,
   "id": "f13fdb4c",
   "metadata": {},
   "outputs": [],
   "source": [
    "#conduct one hot encoding on hourly_segments column\n",
    "onehotencoder = OneHotEncoder(sparse=False)\n",
    "l = onehotencoder.fit_transform(new_df[['hourly_segments']])\n",
    "\n",
    "encoded_data = pd.DataFrame(l, index=new_df.index, columns = ['H1', 'H2', 'H3', 'H4', 'H5', 'H6'])\n",
    "new_df = pd.concat([new_df, encoded_data], axis=1)"
   ]
  },
  {
   "cell_type": "markdown",
   "id": "a23ac8e2",
   "metadata": {},
   "source": [
    "Now that we have encoded the data from the day, hourly_segments, monthly_quarters, we can drop those columns"
   ]
  },
  {
   "cell_type": "code",
   "execution_count": 230,
   "id": "ee79bd30",
   "metadata": {},
   "outputs": [],
   "source": [
    "new_df.drop(columns=['day', 'hourly_segments', 'monthly_quarter'], inplace=True)"
   ]
  },
  {
   "cell_type": "code",
   "execution_count": 233,
   "id": "8155054a",
   "metadata": {},
   "outputs": [
    {
     "data": {
      "text/html": [
       "<div>\n",
       "<style scoped>\n",
       "    .dataframe tbody tr th:only-of-type {\n",
       "        vertical-align: middle;\n",
       "    }\n",
       "\n",
       "    .dataframe tbody tr th {\n",
       "        vertical-align: top;\n",
       "    }\n",
       "\n",
       "    .dataframe thead th {\n",
       "        text-align: right;\n",
       "    }\n",
       "</style>\n",
       "<table border=\"1\" class=\"dataframe\">\n",
       "  <thead>\n",
       "    <tr style=\"text-align: right;\">\n",
       "      <th></th>\n",
       "      <th>fare_amount</th>\n",
       "      <th>passenger_count</th>\n",
       "      <th>year</th>\n",
       "      <th>Distance</th>\n",
       "      <th>isMon</th>\n",
       "      <th>isTues</th>\n",
       "      <th>isWed</th>\n",
       "      <th>isThur</th>\n",
       "      <th>isFri</th>\n",
       "      <th>isSat</th>\n",
       "      <th>...</th>\n",
       "      <th>Q1</th>\n",
       "      <th>Q2</th>\n",
       "      <th>Q3</th>\n",
       "      <th>Q4</th>\n",
       "      <th>H1</th>\n",
       "      <th>H2</th>\n",
       "      <th>H3</th>\n",
       "      <th>H4</th>\n",
       "      <th>H5</th>\n",
       "      <th>H6</th>\n",
       "    </tr>\n",
       "  </thead>\n",
       "  <tbody>\n",
       "    <tr>\n",
       "      <th>0</th>\n",
       "      <td>7.5</td>\n",
       "      <td>1</td>\n",
       "      <td>2015</td>\n",
       "      <td>1.683323</td>\n",
       "      <td>0.0</td>\n",
       "      <td>0.0</td>\n",
       "      <td>0.0</td>\n",
       "      <td>1.0</td>\n",
       "      <td>0.0</td>\n",
       "      <td>0.0</td>\n",
       "      <td>...</td>\n",
       "      <td>0.0</td>\n",
       "      <td>1.0</td>\n",
       "      <td>0.0</td>\n",
       "      <td>0.0</td>\n",
       "      <td>0.0</td>\n",
       "      <td>0.0</td>\n",
       "      <td>0.0</td>\n",
       "      <td>0.0</td>\n",
       "      <td>1.0</td>\n",
       "      <td>0.0</td>\n",
       "    </tr>\n",
       "    <tr>\n",
       "      <th>1</th>\n",
       "      <td>7.7</td>\n",
       "      <td>1</td>\n",
       "      <td>2009</td>\n",
       "      <td>2.457590</td>\n",
       "      <td>0.0</td>\n",
       "      <td>0.0</td>\n",
       "      <td>0.0</td>\n",
       "      <td>0.0</td>\n",
       "      <td>1.0</td>\n",
       "      <td>0.0</td>\n",
       "      <td>...</td>\n",
       "      <td>0.0</td>\n",
       "      <td>0.0</td>\n",
       "      <td>1.0</td>\n",
       "      <td>0.0</td>\n",
       "      <td>0.0</td>\n",
       "      <td>0.0</td>\n",
       "      <td>0.0</td>\n",
       "      <td>0.0</td>\n",
       "      <td>0.0</td>\n",
       "      <td>1.0</td>\n",
       "    </tr>\n",
       "    <tr>\n",
       "      <th>2</th>\n",
       "      <td>12.9</td>\n",
       "      <td>1</td>\n",
       "      <td>2009</td>\n",
       "      <td>5.036377</td>\n",
       "      <td>1.0</td>\n",
       "      <td>0.0</td>\n",
       "      <td>0.0</td>\n",
       "      <td>0.0</td>\n",
       "      <td>0.0</td>\n",
       "      <td>0.0</td>\n",
       "      <td>...</td>\n",
       "      <td>0.0</td>\n",
       "      <td>0.0</td>\n",
       "      <td>1.0</td>\n",
       "      <td>0.0</td>\n",
       "      <td>0.0</td>\n",
       "      <td>0.0</td>\n",
       "      <td>0.0</td>\n",
       "      <td>0.0</td>\n",
       "      <td>0.0</td>\n",
       "      <td>1.0</td>\n",
       "    </tr>\n",
       "    <tr>\n",
       "      <th>3</th>\n",
       "      <td>5.3</td>\n",
       "      <td>3</td>\n",
       "      <td>2009</td>\n",
       "      <td>1.661683</td>\n",
       "      <td>0.0</td>\n",
       "      <td>0.0</td>\n",
       "      <td>0.0</td>\n",
       "      <td>0.0</td>\n",
       "      <td>1.0</td>\n",
       "      <td>0.0</td>\n",
       "      <td>...</td>\n",
       "      <td>0.0</td>\n",
       "      <td>1.0</td>\n",
       "      <td>0.0</td>\n",
       "      <td>0.0</td>\n",
       "      <td>0.0</td>\n",
       "      <td>0.0</td>\n",
       "      <td>1.0</td>\n",
       "      <td>0.0</td>\n",
       "      <td>0.0</td>\n",
       "      <td>0.0</td>\n",
       "    </tr>\n",
       "    <tr>\n",
       "      <th>4</th>\n",
       "      <td>16.0</td>\n",
       "      <td>5</td>\n",
       "      <td>2014</td>\n",
       "      <td>4.475450</td>\n",
       "      <td>0.0</td>\n",
       "      <td>0.0</td>\n",
       "      <td>0.0</td>\n",
       "      <td>1.0</td>\n",
       "      <td>0.0</td>\n",
       "      <td>0.0</td>\n",
       "      <td>...</td>\n",
       "      <td>0.0</td>\n",
       "      <td>0.0</td>\n",
       "      <td>1.0</td>\n",
       "      <td>0.0</td>\n",
       "      <td>0.0</td>\n",
       "      <td>0.0</td>\n",
       "      <td>0.0</td>\n",
       "      <td>0.0</td>\n",
       "      <td>1.0</td>\n",
       "      <td>0.0</td>\n",
       "    </tr>\n",
       "    <tr>\n",
       "      <th>...</th>\n",
       "      <td>...</td>\n",
       "      <td>...</td>\n",
       "      <td>...</td>\n",
       "      <td>...</td>\n",
       "      <td>...</td>\n",
       "      <td>...</td>\n",
       "      <td>...</td>\n",
       "      <td>...</td>\n",
       "      <td>...</td>\n",
       "      <td>...</td>\n",
       "      <td>...</td>\n",
       "      <td>...</td>\n",
       "      <td>...</td>\n",
       "      <td>...</td>\n",
       "      <td>...</td>\n",
       "      <td>...</td>\n",
       "      <td>...</td>\n",
       "      <td>...</td>\n",
       "      <td>...</td>\n",
       "      <td>...</td>\n",
       "      <td>...</td>\n",
       "    </tr>\n",
       "    <tr>\n",
       "      <th>199993</th>\n",
       "      <td>9.5</td>\n",
       "      <td>1</td>\n",
       "      <td>2012</td>\n",
       "      <td>2.640893</td>\n",
       "      <td>0.0</td>\n",
       "      <td>0.0</td>\n",
       "      <td>0.0</td>\n",
       "      <td>0.0</td>\n",
       "      <td>0.0</td>\n",
       "      <td>1.0</td>\n",
       "      <td>...</td>\n",
       "      <td>0.0</td>\n",
       "      <td>0.0</td>\n",
       "      <td>1.0</td>\n",
       "      <td>0.0</td>\n",
       "      <td>0.0</td>\n",
       "      <td>0.0</td>\n",
       "      <td>0.0</td>\n",
       "      <td>0.0</td>\n",
       "      <td>1.0</td>\n",
       "      <td>0.0</td>\n",
       "    </tr>\n",
       "    <tr>\n",
       "      <th>199994</th>\n",
       "      <td>12.0</td>\n",
       "      <td>1</td>\n",
       "      <td>2014</td>\n",
       "      <td>1.122878</td>\n",
       "      <td>0.0</td>\n",
       "      <td>0.0</td>\n",
       "      <td>0.0</td>\n",
       "      <td>0.0</td>\n",
       "      <td>1.0</td>\n",
       "      <td>0.0</td>\n",
       "      <td>...</td>\n",
       "      <td>1.0</td>\n",
       "      <td>0.0</td>\n",
       "      <td>0.0</td>\n",
       "      <td>0.0</td>\n",
       "      <td>0.0</td>\n",
       "      <td>0.0</td>\n",
       "      <td>0.0</td>\n",
       "      <td>1.0</td>\n",
       "      <td>0.0</td>\n",
       "      <td>0.0</td>\n",
       "    </tr>\n",
       "    <tr>\n",
       "      <th>199995</th>\n",
       "      <td>3.0</td>\n",
       "      <td>1</td>\n",
       "      <td>2012</td>\n",
       "      <td>0.112210</td>\n",
       "      <td>0.0</td>\n",
       "      <td>0.0</td>\n",
       "      <td>0.0</td>\n",
       "      <td>0.0</td>\n",
       "      <td>0.0</td>\n",
       "      <td>0.0</td>\n",
       "      <td>...</td>\n",
       "      <td>0.0</td>\n",
       "      <td>0.0</td>\n",
       "      <td>0.0</td>\n",
       "      <td>1.0</td>\n",
       "      <td>0.0</td>\n",
       "      <td>0.0</td>\n",
       "      <td>1.0</td>\n",
       "      <td>0.0</td>\n",
       "      <td>0.0</td>\n",
       "      <td>0.0</td>\n",
       "    </tr>\n",
       "    <tr>\n",
       "      <th>199996</th>\n",
       "      <td>7.5</td>\n",
       "      <td>1</td>\n",
       "      <td>2014</td>\n",
       "      <td>1.875050</td>\n",
       "      <td>0.0</td>\n",
       "      <td>0.0</td>\n",
       "      <td>0.0</td>\n",
       "      <td>0.0</td>\n",
       "      <td>1.0</td>\n",
       "      <td>0.0</td>\n",
       "      <td>...</td>\n",
       "      <td>1.0</td>\n",
       "      <td>0.0</td>\n",
       "      <td>0.0</td>\n",
       "      <td>0.0</td>\n",
       "      <td>1.0</td>\n",
       "      <td>0.0</td>\n",
       "      <td>0.0</td>\n",
       "      <td>0.0</td>\n",
       "      <td>0.0</td>\n",
       "      <td>0.0</td>\n",
       "    </tr>\n",
       "    <tr>\n",
       "      <th>199999</th>\n",
       "      <td>14.1</td>\n",
       "      <td>1</td>\n",
       "      <td>2010</td>\n",
       "      <td>5.417783</td>\n",
       "      <td>0.0</td>\n",
       "      <td>0.0</td>\n",
       "      <td>0.0</td>\n",
       "      <td>0.0</td>\n",
       "      <td>0.0</td>\n",
       "      <td>1.0</td>\n",
       "      <td>...</td>\n",
       "      <td>0.0</td>\n",
       "      <td>1.0</td>\n",
       "      <td>0.0</td>\n",
       "      <td>0.0</td>\n",
       "      <td>0.0</td>\n",
       "      <td>1.0</td>\n",
       "      <td>0.0</td>\n",
       "      <td>0.0</td>\n",
       "      <td>0.0</td>\n",
       "      <td>0.0</td>\n",
       "    </tr>\n",
       "  </tbody>\n",
       "</table>\n",
       "<p>180751 rows × 21 columns</p>\n",
       "</div>"
      ],
      "text/plain": [
       "        fare_amount  passenger_count  year  Distance  isMon  isTues  isWed  \\\n",
       "0               7.5                1  2015  1.683323    0.0     0.0    0.0   \n",
       "1               7.7                1  2009  2.457590    0.0     0.0    0.0   \n",
       "2              12.9                1  2009  5.036377    1.0     0.0    0.0   \n",
       "3               5.3                3  2009  1.661683    0.0     0.0    0.0   \n",
       "4              16.0                5  2014  4.475450    0.0     0.0    0.0   \n",
       "...             ...              ...   ...       ...    ...     ...    ...   \n",
       "199993          9.5                1  2012  2.640893    0.0     0.0    0.0   \n",
       "199994         12.0                1  2014  1.122878    0.0     0.0    0.0   \n",
       "199995          3.0                1  2012  0.112210    0.0     0.0    0.0   \n",
       "199996          7.5                1  2014  1.875050    0.0     0.0    0.0   \n",
       "199999         14.1                1  2010  5.417783    0.0     0.0    0.0   \n",
       "\n",
       "        isThur  isFri  isSat  ...   Q1   Q2   Q3   Q4   H1   H2   H3   H4  \\\n",
       "0          1.0    0.0    0.0  ...  0.0  1.0  0.0  0.0  0.0  0.0  0.0  0.0   \n",
       "1          0.0    1.0    0.0  ...  0.0  0.0  1.0  0.0  0.0  0.0  0.0  0.0   \n",
       "2          0.0    0.0    0.0  ...  0.0  0.0  1.0  0.0  0.0  0.0  0.0  0.0   \n",
       "3          0.0    1.0    0.0  ...  0.0  1.0  0.0  0.0  0.0  0.0  1.0  0.0   \n",
       "4          1.0    0.0    0.0  ...  0.0  0.0  1.0  0.0  0.0  0.0  0.0  0.0   \n",
       "...        ...    ...    ...  ...  ...  ...  ...  ...  ...  ...  ...  ...   \n",
       "199993     0.0    0.0    1.0  ...  0.0  0.0  1.0  0.0  0.0  0.0  0.0  0.0   \n",
       "199994     0.0    1.0    0.0  ...  1.0  0.0  0.0  0.0  0.0  0.0  0.0  1.0   \n",
       "199995     0.0    0.0    0.0  ...  0.0  0.0  0.0  1.0  0.0  0.0  1.0  0.0   \n",
       "199996     0.0    1.0    0.0  ...  1.0  0.0  0.0  0.0  1.0  0.0  0.0  0.0   \n",
       "199999     0.0    0.0    1.0  ...  0.0  1.0  0.0  0.0  0.0  1.0  0.0  0.0   \n",
       "\n",
       "         H5   H6  \n",
       "0       1.0  0.0  \n",
       "1       0.0  1.0  \n",
       "2       0.0  1.0  \n",
       "3       0.0  0.0  \n",
       "4       1.0  0.0  \n",
       "...     ...  ...  \n",
       "199993  1.0  0.0  \n",
       "199994  0.0  0.0  \n",
       "199995  0.0  0.0  \n",
       "199996  0.0  0.0  \n",
       "199999  0.0  0.0  \n",
       "\n",
       "[180751 rows x 21 columns]"
      ]
     },
     "execution_count": 233,
     "metadata": {},
     "output_type": "execute_result"
    }
   ],
   "source": [
    "new_df"
   ]
  },
  {
   "cell_type": "markdown",
   "id": "5b18788f",
   "metadata": {},
   "source": [
    "### Test and Train Data"
   ]
  },
  {
   "cell_type": "markdown",
   "id": "fe8dd370",
   "metadata": {},
   "source": [
    "I'm going to split my data into train and test data for my models. I will be using a test_size of 0.2 as the default. The reason for choosing 20% of samples as test data is to provide a large enough sample size to evaluate the performance of your machine learning model, while still reserving a significant amount of data for training. The 20% ratio is a widely used and widely accepted standard, as it provides a reasonable balance between having enough data to train the model and having enough data to evaluate its performance. In addition, 20% of the data is often considered to be a sufficient sample size to evaluate the model's performance, as long as the data is representative of the underlying distribution.\n",
    "\n",
    "From the exploration above, I will take the values that are more correlated to fare_amount than other columns. "
   ]
  },
  {
   "cell_type": "code",
   "execution_count": 234,
   "id": "13e4f3bd",
   "metadata": {},
   "outputs": [],
   "source": [
    "from sklearn.preprocessing import StandardScaler\n",
    "scale = StandardScaler()\n",
    "X = scale.fit_transform(new_df.drop(columns = ['fare_amount']).values)\n",
    "y = new_df['fare_amount'].values\n",
    "X_train, X_test, y_train, y_test = train_test_split(\n",
    "    X, y, test_size=0.2, random_state=42)"
   ]
  },
  {
   "cell_type": "markdown",
   "id": "1052ded2",
   "metadata": {},
   "source": [
    "### Model"
   ]
  },
  {
   "cell_type": "markdown",
   "id": "9a762953",
   "metadata": {},
   "source": [
    "I will now train different models with their baseline parameters and evaluate them using metrics"
   ]
  },
  {
   "cell_type": "code",
   "execution_count": 235,
   "id": "45d94fc5",
   "metadata": {},
   "outputs": [],
   "source": [
    "from sklearn.linear_model import LinearRegression\n",
    "from sklearn.metrics import mean_squared_error\n",
    "from sklearn.metrics import mean_absolute_error"
   ]
  },
  {
   "cell_type": "code",
   "execution_count": 244,
   "id": "fec964c5",
   "metadata": {},
   "outputs": [
    {
     "name": "stdout",
     "output_type": "stream",
     "text": [
      "Fitting the model...\n",
      "Predicting the model...\n"
     ]
    }
   ],
   "source": [
    "reg = LinearRegression()\n",
    "\n",
    "print('Fitting the model...')\n",
    "reg.fit(X_train, y_train)\n",
    "\n",
    "print('Predicting the model...')\n",
    "y_pred = reg.predict(X_test)"
   ]
  },
  {
   "cell_type": "code",
   "execution_count": 245,
   "id": "db9b1a4c",
   "metadata": {},
   "outputs": [
    {
     "name": "stdout",
     "output_type": "stream",
     "text": [
      "Model Evaluation\n",
      "\n",
      "Calculating MSE....\n",
      "12.431387555268733\n",
      "\n",
      "Calculating R^2....\n",
      "0.7252616156991065\n",
      "\n",
      "Calculating MAE....\n",
      "1.9886596247580672\n"
     ]
    }
   ],
   "source": [
    "print('Model Evaluation')\n",
    "print('\\nCalculating MSE....')\n",
    "mse_reg = mean_squared_error(y_test, y_pred,)\n",
    "print(mse_reg)\n",
    "\n",
    "print('\\nCalculating R^2....')\n",
    "r2_reg = reg.score(X_test, y_test)\n",
    "print(r2_reg)\n",
    "\n",
    "print('\\nCalculating MAE....')\n",
    "mae_reg = mean_absolute_error(y_test, y_pred)\n",
    "print(mae_reg)"
   ]
  },
  {
   "cell_type": "code",
   "execution_count": 246,
   "id": "4d3db53a",
   "metadata": {},
   "outputs": [],
   "source": [
    "from sklearn.ensemble import RandomForestRegressor"
   ]
  },
  {
   "cell_type": "code",
   "execution_count": 247,
   "id": "293fb9c9",
   "metadata": {},
   "outputs": [
    {
     "name": "stdout",
     "output_type": "stream",
     "text": [
      "Fitting the model...\n",
      "Predicting the model...\n"
     ]
    }
   ],
   "source": [
    "rnd_reg = RandomForestRegressor()\n",
    "\n",
    "print('Fitting the model...')\n",
    "rnd_reg.fit(X_train, y_train)\n",
    "\n",
    "print('Predicting the model...')\n",
    "y_pred_rnd = rnd_reg.predict(X_test)"
   ]
  },
  {
   "cell_type": "code",
   "execution_count": 248,
   "id": "11064c31",
   "metadata": {},
   "outputs": [
    {
     "name": "stdout",
     "output_type": "stream",
     "text": [
      "Model Evaluation\n",
      "\n",
      "Calculating MSE....\n",
      "11.752690583093107\n",
      "\n",
      "Calculating R^2....\n",
      "0.7402610764380175\n",
      "\n",
      "Calculating MAE....\n",
      "1.976162493430334\n"
     ]
    }
   ],
   "source": [
    "print('Model Evaluation')\n",
    "print('\\nCalculating MSE....')\n",
    "mse_rnd = mean_squared_error(y_test, y_pred_rnd)\n",
    "print(mse_rnd)\n",
    "\n",
    "print('\\nCalculating R^2....')\n",
    "r2_rnd = rnd_reg.score(X_test, y_test)\n",
    "print(r2_rnd)\n",
    "\n",
    "print('\\nCalculating MAE....')\n",
    "mae_rnd = mean_absolute_error(y_test, y_pred_rnd)\n",
    "print(mae_rnd)"
   ]
  },
  {
   "cell_type": "code",
   "execution_count": 249,
   "id": "605843ef",
   "metadata": {},
   "outputs": [],
   "source": [
    "from sklearn.ensemble import GradientBoostingRegressor"
   ]
  },
  {
   "cell_type": "code",
   "execution_count": 250,
   "id": "a5c6ea10",
   "metadata": {},
   "outputs": [
    {
     "name": "stdout",
     "output_type": "stream",
     "text": [
      "Fitting the model...\n",
      "Predicting the model...\n"
     ]
    }
   ],
   "source": [
    "gbr = GradientBoostingRegressor()\n",
    "\n",
    "print('Fitting the model...')\n",
    "gbr.fit(X_train, y_train)\n",
    "\n",
    "print('Predicting the model...')\n",
    "y_pred_gbr = gbr.predict(X_test)"
   ]
  },
  {
   "cell_type": "code",
   "execution_count": 252,
   "id": "7bb2d6dd",
   "metadata": {},
   "outputs": [
    {
     "name": "stdout",
     "output_type": "stream",
     "text": [
      "Model Evaluation\n",
      "\n",
      "Calculating MSE....\n",
      "10.753648987564095\n",
      "\n",
      "Calculating R^2....\n",
      "0.762340274965514\n",
      "\n",
      "Calculating MAE....\n",
      "1.8368721888325856\n"
     ]
    }
   ],
   "source": [
    "print('Model Evaluation')\n",
    "print('\\nCalculating MSE....')\n",
    "mse_gbr = mean_squared_error(y_test, y_pred_gbr)\n",
    "print(mse_gbr)\n",
    "\n",
    "print('\\nCalculating R^2....')\n",
    "r2_gbr = gbr.score(X_test, y_test)\n",
    "print(r2_gbr)\n",
    "\n",
    "print('\\nCalculating MAE....')\n",
    "mae_gbr = mean_absolute_error(y_test, y_pred_gbr)\n",
    "print(mae_gbr)"
   ]
  },
  {
   "cell_type": "markdown",
   "id": "5c38c07a",
   "metadata": {},
   "source": [
    "### Hyperameter Tuning"
   ]
  },
  {
   "cell_type": "markdown",
   "id": "3a5b914b",
   "metadata": {},
   "source": [
    "Tuning the hyperparameters of a machine learning model is important because it can have a significant impact on the performance of the model. Hyperparameters are parameters that are not learned from the data, but are set prior to training the model. They control aspects of the model such as the number of trees in a Random Forest or the learning rate in Gradient Boosting.\n",
    "\n",
    "I will be using RandomizedSearchCV for tuning the hyperparameters of machine learning algorithms. The main reason for using RandomizedSearchCV for these algorithms is that it is a more efficient and faster way to perform hyperparameter tuning compared to traditional grid search methods.\n",
    "\n",
    "I have also implemented the grid search method but due to the number of samples it is too costly to run. In grid search, you exhaustively search the hyperparameter space by trying every combination of hyperparameters.\n",
    "\n",
    "In contrast, randomized search randomly samples the hyperparameter space and only tries a specified number of random combinations. This reduces the number of trials required and can often result in a more efficient search."
   ]
  },
  {
   "cell_type": "code",
   "execution_count": 253,
   "id": "65d8ef1d",
   "metadata": {},
   "outputs": [],
   "source": [
    "from sklearn.model_selection import GridSearchCV\n",
    "from sklearn.model_selection import RandomizedSearchCV"
   ]
  },
  {
   "cell_type": "code",
   "execution_count": 255,
   "id": "67dfba1a",
   "metadata": {},
   "outputs": [],
   "source": [
    "param_grid = {'max_depth': [10, None],\n",
    "              'max_features': ['auto', 'log2'], 'n_estimators': [50, 100, 250], 'bootstrap' : [True]}"
   ]
  },
  {
   "cell_type": "code",
   "execution_count": 260,
   "id": "0d461212",
   "metadata": {},
   "outputs": [
    {
     "name": "stdout",
     "output_type": "stream",
     "text": [
      "Fitting 5 folds for each of 10 candidates, totalling 50 fits\n",
      "[CV 1/5; 1/10] START bootstrap=True, max_depth=10, max_features=log2, n_estimators=250\n",
      "[CV 1/5; 1/10] END bootstrap=True, max_depth=10, max_features=log2, n_estimators=250;, score=0.706 total time=   8.4s\n",
      "[CV 2/5; 1/10] START bootstrap=True, max_depth=10, max_features=log2, n_estimators=250\n",
      "[CV 2/5; 1/10] END bootstrap=True, max_depth=10, max_features=log2, n_estimators=250;, score=0.699 total time=   8.3s\n",
      "[CV 3/5; 1/10] START bootstrap=True, max_depth=10, max_features=log2, n_estimators=250\n",
      "[CV 3/5; 1/10] END bootstrap=True, max_depth=10, max_features=log2, n_estimators=250;, score=0.703 total time=   8.4s\n",
      "[CV 4/5; 1/10] START bootstrap=True, max_depth=10, max_features=log2, n_estimators=250\n",
      "[CV 4/5; 1/10] END bootstrap=True, max_depth=10, max_features=log2, n_estimators=250;, score=0.695 total time=   8.7s\n",
      "[CV 5/5; 1/10] START bootstrap=True, max_depth=10, max_features=log2, n_estimators=250\n",
      "[CV 5/5; 1/10] END bootstrap=True, max_depth=10, max_features=log2, n_estimators=250;, score=0.699 total time=   8.5s\n",
      "[CV 1/5; 2/10] START bootstrap=True, max_depth=10, max_features=auto, n_estimators=100\n",
      "[CV 1/5; 2/10] END bootstrap=True, max_depth=10, max_features=auto, n_estimators=100;, score=0.756 total time=  13.6s\n",
      "[CV 2/5; 2/10] START bootstrap=True, max_depth=10, max_features=auto, n_estimators=100\n",
      "[CV 2/5; 2/10] END bootstrap=True, max_depth=10, max_features=auto, n_estimators=100;, score=0.747 total time=  13.3s\n",
      "[CV 3/5; 2/10] START bootstrap=True, max_depth=10, max_features=auto, n_estimators=100\n",
      "[CV 3/5; 2/10] END bootstrap=True, max_depth=10, max_features=auto, n_estimators=100;, score=0.754 total time=  13.5s\n",
      "[CV 4/5; 2/10] START bootstrap=True, max_depth=10, max_features=auto, n_estimators=100\n",
      "[CV 4/5; 2/10] END bootstrap=True, max_depth=10, max_features=auto, n_estimators=100;, score=0.744 total time=  13.7s\n",
      "[CV 5/5; 2/10] START bootstrap=True, max_depth=10, max_features=auto, n_estimators=100\n",
      "[CV 5/5; 2/10] END bootstrap=True, max_depth=10, max_features=auto, n_estimators=100;, score=0.750 total time=  13.7s\n",
      "[CV 1/5; 3/10] START bootstrap=True, max_depth=None, max_features=auto, n_estimators=100\n",
      "[CV 1/5; 3/10] END bootstrap=True, max_depth=None, max_features=auto, n_estimators=100;, score=0.731 total time=  29.6s\n",
      "[CV 2/5; 3/10] START bootstrap=True, max_depth=None, max_features=auto, n_estimators=100\n",
      "[CV 2/5; 3/10] END bootstrap=True, max_depth=None, max_features=auto, n_estimators=100;, score=0.726 total time=  29.5s\n",
      "[CV 3/5; 3/10] START bootstrap=True, max_depth=None, max_features=auto, n_estimators=100\n",
      "[CV 3/5; 3/10] END bootstrap=True, max_depth=None, max_features=auto, n_estimators=100;, score=0.730 total time=  29.0s\n",
      "[CV 4/5; 3/10] START bootstrap=True, max_depth=None, max_features=auto, n_estimators=100\n",
      "[CV 4/5; 3/10] END bootstrap=True, max_depth=None, max_features=auto, n_estimators=100;, score=0.721 total time=  29.3s\n",
      "[CV 5/5; 3/10] START bootstrap=True, max_depth=None, max_features=auto, n_estimators=100\n",
      "[CV 5/5; 3/10] END bootstrap=True, max_depth=None, max_features=auto, n_estimators=100;, score=0.724 total time=  29.3s\n",
      "[CV 1/5; 4/10] START bootstrap=True, max_depth=10, max_features=auto, n_estimators=50\n",
      "[CV 1/5; 4/10] END bootstrap=True, max_depth=10, max_features=auto, n_estimators=50;, score=0.754 total time=   6.7s\n",
      "[CV 2/5; 4/10] START bootstrap=True, max_depth=10, max_features=auto, n_estimators=50\n",
      "[CV 2/5; 4/10] END bootstrap=True, max_depth=10, max_features=auto, n_estimators=50;, score=0.747 total time=   6.8s\n",
      "[CV 3/5; 4/10] START bootstrap=True, max_depth=10, max_features=auto, n_estimators=50\n",
      "[CV 3/5; 4/10] END bootstrap=True, max_depth=10, max_features=auto, n_estimators=50;, score=0.753 total time=   6.8s\n",
      "[CV 4/5; 4/10] START bootstrap=True, max_depth=10, max_features=auto, n_estimators=50\n",
      "[CV 4/5; 4/10] END bootstrap=True, max_depth=10, max_features=auto, n_estimators=50;, score=0.744 total time=   6.8s\n",
      "[CV 5/5; 4/10] START bootstrap=True, max_depth=10, max_features=auto, n_estimators=50\n",
      "[CV 5/5; 4/10] END bootstrap=True, max_depth=10, max_features=auto, n_estimators=50;, score=0.750 total time=   6.7s\n",
      "[CV 1/5; 5/10] START bootstrap=True, max_depth=None, max_features=log2, n_estimators=250\n",
      "[CV 1/5; 5/10] END bootstrap=True, max_depth=None, max_features=log2, n_estimators=250;, score=0.712 total time=  22.5s\n",
      "[CV 2/5; 5/10] START bootstrap=True, max_depth=None, max_features=log2, n_estimators=250\n",
      "[CV 2/5; 5/10] END bootstrap=True, max_depth=None, max_features=log2, n_estimators=250;, score=0.702 total time=  22.3s\n",
      "[CV 3/5; 5/10] START bootstrap=True, max_depth=None, max_features=log2, n_estimators=250\n",
      "[CV 3/5; 5/10] END bootstrap=True, max_depth=None, max_features=log2, n_estimators=250;, score=0.713 total time=  22.1s\n",
      "[CV 4/5; 5/10] START bootstrap=True, max_depth=None, max_features=log2, n_estimators=250\n",
      "[CV 4/5; 5/10] END bootstrap=True, max_depth=None, max_features=log2, n_estimators=250;, score=0.696 total time=  22.0s\n",
      "[CV 5/5; 5/10] START bootstrap=True, max_depth=None, max_features=log2, n_estimators=250\n",
      "[CV 5/5; 5/10] END bootstrap=True, max_depth=None, max_features=log2, n_estimators=250;, score=0.702 total time=  22.1s\n",
      "[CV 1/5; 6/10] START bootstrap=True, max_depth=10, max_features=log2, n_estimators=100\n",
      "[CV 1/5; 6/10] END bootstrap=True, max_depth=10, max_features=log2, n_estimators=100;, score=0.706 total time=   3.3s\n",
      "[CV 2/5; 6/10] START bootstrap=True, max_depth=10, max_features=log2, n_estimators=100\n",
      "[CV 2/5; 6/10] END bootstrap=True, max_depth=10, max_features=log2, n_estimators=100;, score=0.697 total time=   3.4s\n",
      "[CV 3/5; 6/10] START bootstrap=True, max_depth=10, max_features=log2, n_estimators=100\n",
      "[CV 3/5; 6/10] END bootstrap=True, max_depth=10, max_features=log2, n_estimators=100;, score=0.701 total time=   3.4s\n",
      "[CV 4/5; 6/10] START bootstrap=True, max_depth=10, max_features=log2, n_estimators=100\n",
      "[CV 4/5; 6/10] END bootstrap=True, max_depth=10, max_features=log2, n_estimators=100;, score=0.693 total time=   3.4s\n",
      "[CV 5/5; 6/10] START bootstrap=True, max_depth=10, max_features=log2, n_estimators=100\n",
      "[CV 5/5; 6/10] END bootstrap=True, max_depth=10, max_features=log2, n_estimators=100;, score=0.697 total time=   3.3s\n",
      "[CV 1/5; 7/10] START bootstrap=True, max_depth=None, max_features=auto, n_estimators=250\n",
      "[CV 1/5; 7/10] END bootstrap=True, max_depth=None, max_features=auto, n_estimators=250;, score=0.732 total time= 1.2min\n",
      "[CV 2/5; 7/10] START bootstrap=True, max_depth=None, max_features=auto, n_estimators=250\n",
      "[CV 2/5; 7/10] END bootstrap=True, max_depth=None, max_features=auto, n_estimators=250;, score=0.728 total time= 1.2min\n",
      "[CV 3/5; 7/10] START bootstrap=True, max_depth=None, max_features=auto, n_estimators=250\n",
      "[CV 3/5; 7/10] END bootstrap=True, max_depth=None, max_features=auto, n_estimators=250;, score=0.732 total time= 1.2min\n",
      "[CV 4/5; 7/10] START bootstrap=True, max_depth=None, max_features=auto, n_estimators=250\n",
      "[CV 4/5; 7/10] END bootstrap=True, max_depth=None, max_features=auto, n_estimators=250;, score=0.722 total time= 1.2min\n",
      "[CV 5/5; 7/10] START bootstrap=True, max_depth=None, max_features=auto, n_estimators=250\n",
      "[CV 5/5; 7/10] END bootstrap=True, max_depth=None, max_features=auto, n_estimators=250;, score=0.726 total time= 1.2min\n",
      "[CV 1/5; 8/10] START bootstrap=True, max_depth=None, max_features=log2, n_estimators=100\n",
      "[CV 1/5; 8/10] END bootstrap=True, max_depth=None, max_features=log2, n_estimators=100;, score=0.710 total time=   9.1s\n",
      "[CV 2/5; 8/10] START bootstrap=True, max_depth=None, max_features=log2, n_estimators=100\n",
      "[CV 2/5; 8/10] END bootstrap=True, max_depth=None, max_features=log2, n_estimators=100;, score=0.701 total time=   8.8s\n",
      "[CV 3/5; 8/10] START bootstrap=True, max_depth=None, max_features=log2, n_estimators=100\n",
      "[CV 3/5; 8/10] END bootstrap=True, max_depth=None, max_features=log2, n_estimators=100;, score=0.710 total time=   8.8s\n",
      "[CV 4/5; 8/10] START bootstrap=True, max_depth=None, max_features=log2, n_estimators=100\n",
      "[CV 4/5; 8/10] END bootstrap=True, max_depth=None, max_features=log2, n_estimators=100;, score=0.694 total time=   8.7s\n",
      "[CV 5/5; 8/10] START bootstrap=True, max_depth=None, max_features=log2, n_estimators=100\n"
     ]
    },
    {
     "name": "stdout",
     "output_type": "stream",
     "text": [
      "[CV 5/5; 8/10] END bootstrap=True, max_depth=None, max_features=log2, n_estimators=100;, score=0.699 total time=   9.3s\n",
      "[CV 1/5; 9/10] START bootstrap=True, max_depth=None, max_features=auto, n_estimators=50\n",
      "[CV 1/5; 9/10] END bootstrap=True, max_depth=None, max_features=auto, n_estimators=50;, score=0.727 total time=  14.9s\n",
      "[CV 2/5; 9/10] START bootstrap=True, max_depth=None, max_features=auto, n_estimators=50\n",
      "[CV 2/5; 9/10] END bootstrap=True, max_depth=None, max_features=auto, n_estimators=50;, score=0.724 total time=  14.5s\n",
      "[CV 3/5; 9/10] START bootstrap=True, max_depth=None, max_features=auto, n_estimators=50\n",
      "[CV 3/5; 9/10] END bootstrap=True, max_depth=None, max_features=auto, n_estimators=50;, score=0.727 total time=  14.4s\n",
      "[CV 4/5; 9/10] START bootstrap=True, max_depth=None, max_features=auto, n_estimators=50\n",
      "[CV 4/5; 9/10] END bootstrap=True, max_depth=None, max_features=auto, n_estimators=50;, score=0.719 total time=  14.6s\n",
      "[CV 5/5; 9/10] START bootstrap=True, max_depth=None, max_features=auto, n_estimators=50\n",
      "[CV 5/5; 9/10] END bootstrap=True, max_depth=None, max_features=auto, n_estimators=50;, score=0.722 total time=  14.6s\n",
      "[CV 1/5; 10/10] START bootstrap=True, max_depth=None, max_features=log2, n_estimators=50\n",
      "[CV 1/5; 10/10] END bootstrap=True, max_depth=None, max_features=log2, n_estimators=50;, score=0.707 total time=   4.4s\n",
      "[CV 2/5; 10/10] START bootstrap=True, max_depth=None, max_features=log2, n_estimators=50\n",
      "[CV 2/5; 10/10] END bootstrap=True, max_depth=None, max_features=log2, n_estimators=50;, score=0.699 total time=   4.5s\n",
      "[CV 3/5; 10/10] START bootstrap=True, max_depth=None, max_features=log2, n_estimators=50\n",
      "[CV 3/5; 10/10] END bootstrap=True, max_depth=None, max_features=log2, n_estimators=50;, score=0.707 total time=   4.3s\n",
      "[CV 4/5; 10/10] START bootstrap=True, max_depth=None, max_features=log2, n_estimators=50\n",
      "[CV 4/5; 10/10] END bootstrap=True, max_depth=None, max_features=log2, n_estimators=50;, score=0.691 total time=   4.4s\n",
      "[CV 5/5; 10/10] START bootstrap=True, max_depth=None, max_features=log2, n_estimators=50\n",
      "[CV 5/5; 10/10] END bootstrap=True, max_depth=None, max_features=log2, n_estimators=50;, score=0.697 total time=   4.4s\n"
     ]
    },
    {
     "data": {
      "text/plain": [
       "RandomizedSearchCV(estimator=RandomForestRegressor(random_state=42),\n",
       "                   param_distributions={'bootstrap': [True],\n",
       "                                        'max_depth': [10, None],\n",
       "                                        'max_features': ['auto', 'log2'],\n",
       "                                        'n_estimators': [50, 100, 250]},\n",
       "                   verbose=10)"
      ]
     },
     "execution_count": 260,
     "metadata": {},
     "output_type": "execute_result"
    }
   ],
   "source": [
    "rnd_reg_gs = RandomForestRegressor(random_state=42)\n",
    "\n",
    "#For girdsearch\n",
    "# rnd_reg_model = GridSearchCV(estimator=rnd_reg_gs, param_grid=param_grid,\n",
    "#                             verbose=10, n_jobs=1)\n",
    "rnd_reg_model = RandomizedSearchCV(estimator=rnd_reg_gs, param_distributions=param_grid,\n",
    "                            verbose=10, n_iter=10)\n",
    "\n",
    "rnd_reg_model.fit(X_train, y_train)"
   ]
  },
  {
   "cell_type": "code",
   "execution_count": 269,
   "id": "76a5de7e",
   "metadata": {},
   "outputs": [
    {
     "data": {
      "text/plain": [
       "{'n_estimators': 100,\n",
       " 'max_features': 'auto',\n",
       " 'max_depth': 10,\n",
       " 'bootstrap': True}"
      ]
     },
     "execution_count": 269,
     "metadata": {},
     "output_type": "execute_result"
    }
   ],
   "source": [
    "best_grid = rnd_reg_model.best_params_\n",
    "best_grid"
   ]
  },
  {
   "cell_type": "code",
   "execution_count": 270,
   "id": "b86d6081",
   "metadata": {},
   "outputs": [
    {
     "name": "stdout",
     "output_type": "stream",
     "text": [
      "Model Evaluation\n",
      "\n",
      "Calculating MSE....\n",
      "10.742865218889769\n",
      "\n",
      "Calculating R^2....\n",
      "0.7625786003470603\n",
      "\n",
      "Calculating MAE....\n",
      "1.8410981355173242\n"
     ]
    }
   ],
   "source": [
    "print('Model Evaluation')\n",
    "y_pred_rnd_rs = rnd_reg_model.predict(X_test)\n",
    "print('\\nCalculating MSE....')\n",
    "mse_rnd_rs = mean_squared_error(y_test, y_pred_rnd_rs)\n",
    "print(mse_rnd_rs)\n",
    "\n",
    "print('\\nCalculating R^2....')\n",
    "r2_rnd_rs = rnd_reg_model.score(X_test, y_test)\n",
    "print(r2_rnd_rs)\n",
    "\n",
    "print('\\nCalculating MAE....')\n",
    "mae_rnd_rs = mean_absolute_error(y_test, y_pred_rnd_rs)\n",
    "print(mae_rnd_rs)"
   ]
  },
  {
   "cell_type": "markdown",
   "id": "bd5f5e32",
   "metadata": {},
   "source": [
    "We will repeat the same process for the gradient boosting model"
   ]
  },
  {
   "cell_type": "code",
   "execution_count": 265,
   "id": "08c811d4",
   "metadata": {},
   "outputs": [],
   "source": [
    "parameters = {'learning_rate': [0.1,0.03, 0.05],\n",
    "                  'subsample'    : [1],\n",
    "                  'n_estimators' : [100,300],\n",
    "                  'max_depth'    : [3, 6]\n",
    "                 }"
   ]
  },
  {
   "cell_type": "code",
   "execution_count": 267,
   "id": "0196a7ed",
   "metadata": {},
   "outputs": [
    {
     "name": "stdout",
     "output_type": "stream",
     "text": [
      "Fitting 5 folds for each of 10 candidates, totalling 50 fits\n",
      "[CV 1/5; 1/10] START learning_rate=0.03, max_depth=3, n_estimators=300, subsample=1\n",
      "[CV 1/5; 1/10] END learning_rate=0.03, max_depth=3, n_estimators=300, subsample=1;, score=0.757 total time=  21.6s\n",
      "[CV 2/5; 1/10] START learning_rate=0.03, max_depth=3, n_estimators=300, subsample=1\n",
      "[CV 2/5; 1/10] END learning_rate=0.03, max_depth=3, n_estimators=300, subsample=1;, score=0.749 total time=  21.7s\n",
      "[CV 3/5; 1/10] START learning_rate=0.03, max_depth=3, n_estimators=300, subsample=1\n",
      "[CV 3/5; 1/10] END learning_rate=0.03, max_depth=3, n_estimators=300, subsample=1;, score=0.755 total time=  21.1s\n",
      "[CV 4/5; 1/10] START learning_rate=0.03, max_depth=3, n_estimators=300, subsample=1\n",
      "[CV 4/5; 1/10] END learning_rate=0.03, max_depth=3, n_estimators=300, subsample=1;, score=0.746 total time=  21.3s\n",
      "[CV 5/5; 1/10] START learning_rate=0.03, max_depth=3, n_estimators=300, subsample=1\n",
      "[CV 5/5; 1/10] END learning_rate=0.03, max_depth=3, n_estimators=300, subsample=1;, score=0.750 total time=  21.1s\n",
      "[CV 1/5; 2/10] START learning_rate=0.03, max_depth=6, n_estimators=300, subsample=1\n",
      "[CV 1/5; 2/10] END learning_rate=0.03, max_depth=6, n_estimators=300, subsample=1;, score=0.756 total time=  39.8s\n",
      "[CV 2/5; 2/10] START learning_rate=0.03, max_depth=6, n_estimators=300, subsample=1\n",
      "[CV 2/5; 2/10] END learning_rate=0.03, max_depth=6, n_estimators=300, subsample=1;, score=0.745 total time=  40.6s\n",
      "[CV 3/5; 2/10] START learning_rate=0.03, max_depth=6, n_estimators=300, subsample=1\n",
      "[CV 3/5; 2/10] END learning_rate=0.03, max_depth=6, n_estimators=300, subsample=1;, score=0.757 total time=  40.2s\n",
      "[CV 4/5; 2/10] START learning_rate=0.03, max_depth=6, n_estimators=300, subsample=1\n",
      "[CV 4/5; 2/10] END learning_rate=0.03, max_depth=6, n_estimators=300, subsample=1;, score=0.743 total time=  39.8s\n",
      "[CV 5/5; 2/10] START learning_rate=0.03, max_depth=6, n_estimators=300, subsample=1\n",
      "[CV 5/5; 2/10] END learning_rate=0.03, max_depth=6, n_estimators=300, subsample=1;, score=0.752 total time=  40.5s\n",
      "[CV 1/5; 3/10] START learning_rate=0.03, max_depth=6, n_estimators=100, subsample=1\n",
      "[CV 1/5; 3/10] END learning_rate=0.03, max_depth=6, n_estimators=100, subsample=1;, score=0.754 total time=  13.6s\n",
      "[CV 2/5; 3/10] START learning_rate=0.03, max_depth=6, n_estimators=100, subsample=1\n",
      "[CV 2/5; 3/10] END learning_rate=0.03, max_depth=6, n_estimators=100, subsample=1;, score=0.746 total time=  13.9s\n",
      "[CV 3/5; 3/10] START learning_rate=0.03, max_depth=6, n_estimators=100, subsample=1\n",
      "[CV 3/5; 3/10] END learning_rate=0.03, max_depth=6, n_estimators=100, subsample=1;, score=0.752 total time=  13.7s\n",
      "[CV 4/5; 3/10] START learning_rate=0.03, max_depth=6, n_estimators=100, subsample=1\n",
      "[CV 4/5; 3/10] END learning_rate=0.03, max_depth=6, n_estimators=100, subsample=1;, score=0.744 total time=  13.7s\n",
      "[CV 5/5; 3/10] START learning_rate=0.03, max_depth=6, n_estimators=100, subsample=1\n",
      "[CV 5/5; 3/10] END learning_rate=0.03, max_depth=6, n_estimators=100, subsample=1;, score=0.750 total time=  13.7s\n",
      "[CV 1/5; 4/10] START learning_rate=0.1, max_depth=3, n_estimators=100, subsample=1\n",
      "[CV 1/5; 4/10] END learning_rate=0.1, max_depth=3, n_estimators=100, subsample=1;, score=0.757 total time=   7.0s\n",
      "[CV 2/5; 4/10] START learning_rate=0.1, max_depth=3, n_estimators=100, subsample=1\n",
      "[CV 2/5; 4/10] END learning_rate=0.1, max_depth=3, n_estimators=100, subsample=1;, score=0.749 total time=   7.1s\n",
      "[CV 3/5; 4/10] START learning_rate=0.1, max_depth=3, n_estimators=100, subsample=1\n",
      "[CV 3/5; 4/10] END learning_rate=0.1, max_depth=3, n_estimators=100, subsample=1;, score=0.755 total time=   7.0s\n",
      "[CV 4/5; 4/10] START learning_rate=0.1, max_depth=3, n_estimators=100, subsample=1\n",
      "[CV 4/5; 4/10] END learning_rate=0.1, max_depth=3, n_estimators=100, subsample=1;, score=0.747 total time=   7.0s\n",
      "[CV 5/5; 4/10] START learning_rate=0.1, max_depth=3, n_estimators=100, subsample=1\n",
      "[CV 5/5; 4/10] END learning_rate=0.1, max_depth=3, n_estimators=100, subsample=1;, score=0.750 total time=   7.0s\n",
      "[CV 1/5; 5/10] START learning_rate=0.05, max_depth=6, n_estimators=100, subsample=1\n",
      "[CV 1/5; 5/10] END learning_rate=0.05, max_depth=6, n_estimators=100, subsample=1;, score=0.757 total time=  13.6s\n",
      "[CV 2/5; 5/10] START learning_rate=0.05, max_depth=6, n_estimators=100, subsample=1\n",
      "[CV 2/5; 5/10] END learning_rate=0.05, max_depth=6, n_estimators=100, subsample=1;, score=0.749 total time=  13.5s\n",
      "[CV 3/5; 5/10] START learning_rate=0.05, max_depth=6, n_estimators=100, subsample=1\n",
      "[CV 3/5; 5/10] END learning_rate=0.05, max_depth=6, n_estimators=100, subsample=1;, score=0.757 total time=  13.6s\n",
      "[CV 4/5; 5/10] START learning_rate=0.05, max_depth=6, n_estimators=100, subsample=1\n",
      "[CV 4/5; 5/10] END learning_rate=0.05, max_depth=6, n_estimators=100, subsample=1;, score=0.746 total time=  13.5s\n",
      "[CV 5/5; 5/10] START learning_rate=0.05, max_depth=6, n_estimators=100, subsample=1\n",
      "[CV 5/5; 5/10] END learning_rate=0.05, max_depth=6, n_estimators=100, subsample=1;, score=0.753 total time=  13.4s\n",
      "[CV 1/5; 6/10] START learning_rate=0.1, max_depth=6, n_estimators=300, subsample=1\n",
      "[CV 1/5; 6/10] END learning_rate=0.1, max_depth=6, n_estimators=300, subsample=1;, score=0.752 total time=  40.5s\n",
      "[CV 2/5; 6/10] START learning_rate=0.1, max_depth=6, n_estimators=300, subsample=1\n",
      "[CV 2/5; 6/10] END learning_rate=0.1, max_depth=6, n_estimators=300, subsample=1;, score=0.739 total time=  40.3s\n",
      "[CV 3/5; 6/10] START learning_rate=0.1, max_depth=6, n_estimators=300, subsample=1\n",
      "[CV 3/5; 6/10] END learning_rate=0.1, max_depth=6, n_estimators=300, subsample=1;, score=0.754 total time=  40.7s\n",
      "[CV 4/5; 6/10] START learning_rate=0.1, max_depth=6, n_estimators=300, subsample=1\n",
      "[CV 4/5; 6/10] END learning_rate=0.1, max_depth=6, n_estimators=300, subsample=1;, score=0.737 total time=  40.5s\n",
      "[CV 5/5; 6/10] START learning_rate=0.1, max_depth=6, n_estimators=300, subsample=1\n",
      "[CV 5/5; 6/10] END learning_rate=0.1, max_depth=6, n_estimators=300, subsample=1;, score=0.742 total time=  41.1s\n",
      "[CV 1/5; 7/10] START learning_rate=0.1, max_depth=6, n_estimators=100, subsample=1\n",
      "[CV 1/5; 7/10] END learning_rate=0.1, max_depth=6, n_estimators=100, subsample=1;, score=0.757 total time=  13.6s\n",
      "[CV 2/5; 7/10] START learning_rate=0.1, max_depth=6, n_estimators=100, subsample=1\n",
      "[CV 2/5; 7/10] END learning_rate=0.1, max_depth=6, n_estimators=100, subsample=1;, score=0.746 total time=  13.6s\n",
      "[CV 3/5; 7/10] START learning_rate=0.1, max_depth=6, n_estimators=100, subsample=1\n",
      "[CV 3/5; 7/10] END learning_rate=0.1, max_depth=6, n_estimators=100, subsample=1;, score=0.758 total time=  13.4s\n",
      "[CV 4/5; 7/10] START learning_rate=0.1, max_depth=6, n_estimators=100, subsample=1\n",
      "[CV 4/5; 7/10] END learning_rate=0.1, max_depth=6, n_estimators=100, subsample=1;, score=0.742 total time=  13.3s\n",
      "[CV 5/5; 7/10] START learning_rate=0.1, max_depth=6, n_estimators=100, subsample=1\n",
      "[CV 5/5; 7/10] END learning_rate=0.1, max_depth=6, n_estimators=100, subsample=1;, score=0.750 total time=  13.4s\n",
      "[CV 1/5; 8/10] START learning_rate=0.05, max_depth=6, n_estimators=300, subsample=1\n",
      "[CV 1/5; 8/10] END learning_rate=0.05, max_depth=6, n_estimators=300, subsample=1;, score=0.754 total time=  39.9s\n",
      "[CV 2/5; 8/10] START learning_rate=0.05, max_depth=6, n_estimators=300, subsample=1\n",
      "[CV 2/5; 8/10] END learning_rate=0.05, max_depth=6, n_estimators=300, subsample=1;, score=0.745 total time=  40.4s\n",
      "[CV 3/5; 8/10] START learning_rate=0.05, max_depth=6, n_estimators=300, subsample=1\n",
      "[CV 3/5; 8/10] END learning_rate=0.05, max_depth=6, n_estimators=300, subsample=1;, score=0.754 total time=  40.3s\n",
      "[CV 4/5; 8/10] START learning_rate=0.05, max_depth=6, n_estimators=300, subsample=1\n",
      "[CV 4/5; 8/10] END learning_rate=0.05, max_depth=6, n_estimators=300, subsample=1;, score=0.739 total time=  40.3s\n",
      "[CV 5/5; 8/10] START learning_rate=0.05, max_depth=6, n_estimators=300, subsample=1\n",
      "[CV 5/5; 8/10] END learning_rate=0.05, max_depth=6, n_estimators=300, subsample=1;, score=0.749 total time=  39.9s\n",
      "[CV 1/5; 9/10] START learning_rate=0.05, max_depth=3, n_estimators=100, subsample=1\n",
      "[CV 1/5; 9/10] END learning_rate=0.05, max_depth=3, n_estimators=100, subsample=1;, score=0.753 total time=   7.0s\n",
      "[CV 2/5; 9/10] START learning_rate=0.05, max_depth=3, n_estimators=100, subsample=1\n"
     ]
    },
    {
     "name": "stdout",
     "output_type": "stream",
     "text": [
      "[CV 2/5; 9/10] END learning_rate=0.05, max_depth=3, n_estimators=100, subsample=1;, score=0.744 total time=   7.1s\n",
      "[CV 3/5; 9/10] START learning_rate=0.05, max_depth=3, n_estimators=100, subsample=1\n",
      "[CV 3/5; 9/10] END learning_rate=0.05, max_depth=3, n_estimators=100, subsample=1;, score=0.750 total time=   7.3s\n",
      "[CV 4/5; 9/10] START learning_rate=0.05, max_depth=3, n_estimators=100, subsample=1\n",
      "[CV 4/5; 9/10] END learning_rate=0.05, max_depth=3, n_estimators=100, subsample=1;, score=0.741 total time=   7.0s\n",
      "[CV 5/5; 9/10] START learning_rate=0.05, max_depth=3, n_estimators=100, subsample=1\n",
      "[CV 5/5; 9/10] END learning_rate=0.05, max_depth=3, n_estimators=100, subsample=1;, score=0.747 total time=   7.1s\n",
      "[CV 1/5; 10/10] START learning_rate=0.1, max_depth=3, n_estimators=300, subsample=1\n",
      "[CV 1/5; 10/10] END learning_rate=0.1, max_depth=3, n_estimators=300, subsample=1;, score=0.758 total time=  21.0s\n",
      "[CV 2/5; 10/10] START learning_rate=0.1, max_depth=3, n_estimators=300, subsample=1\n",
      "[CV 2/5; 10/10] END learning_rate=0.1, max_depth=3, n_estimators=300, subsample=1;, score=0.748 total time=  21.2s\n",
      "[CV 3/5; 10/10] START learning_rate=0.1, max_depth=3, n_estimators=300, subsample=1\n",
      "[CV 3/5; 10/10] END learning_rate=0.1, max_depth=3, n_estimators=300, subsample=1;, score=0.754 total time=  21.5s\n",
      "[CV 4/5; 10/10] START learning_rate=0.1, max_depth=3, n_estimators=300, subsample=1\n",
      "[CV 4/5; 10/10] END learning_rate=0.1, max_depth=3, n_estimators=300, subsample=1;, score=0.745 total time=  21.1s\n",
      "[CV 5/5; 10/10] START learning_rate=0.1, max_depth=3, n_estimators=300, subsample=1\n",
      "[CV 5/5; 10/10] END learning_rate=0.1, max_depth=3, n_estimators=300, subsample=1;, score=0.748 total time=  21.2s\n"
     ]
    },
    {
     "data": {
      "text/plain": [
       "RandomizedSearchCV(estimator=GradientBoostingRegressor(),\n",
       "                   param_distributions={'learning_rate': [0.1, 0.03, 0.05],\n",
       "                                        'max_depth': [3, 6],\n",
       "                                        'n_estimators': [100, 300],\n",
       "                                        'subsample': [1]},\n",
       "                   verbose=10)"
      ]
     },
     "execution_count": 267,
     "metadata": {},
     "output_type": "execute_result"
    }
   ],
   "source": [
    "gbr_rs = GradientBoostingRegressor()\n",
    "\n",
    "gbr_reg_model = RandomizedSearchCV(estimator=gbr_rs, param_distributions=parameters,\n",
    "                            verbose=10, n_iter=10)\n",
    "\n",
    "gbr_reg_model.fit(X_train, y_train)"
   ]
  },
  {
   "cell_type": "code",
   "execution_count": 271,
   "id": "a3de4f17",
   "metadata": {},
   "outputs": [
    {
     "data": {
      "text/plain": [
       "{'subsample': 1, 'n_estimators': 100, 'max_depth': 6, 'learning_rate': 0.05}"
      ]
     },
     "execution_count": 271,
     "metadata": {},
     "output_type": "execute_result"
    }
   ],
   "source": [
    "best_grid = gbr_reg_model.best_params_\n",
    "best_grid"
   ]
  },
  {
   "cell_type": "code",
   "execution_count": null,
   "id": "c468f1cb",
   "metadata": {},
   "outputs": [],
   "source": [
    "print('Model Evaluation')\n",
    "y_pred_gbr_rs = gbr_reg_model.predict(X_test)\n",
    "print('\\nCalculating MSE....')\n",
    "mse_gbr_rs = mean_squared_error(y_test, y_pred_gbr_rs)\n",
    "print(mse_gbr_rs)\n",
    "\n",
    "print('\\nCalculating R^2....')\n",
    "r2_gbr_rs = gbr_reg_model.score(X_test, y_test)\n",
    "print(r2_gbr_rs)\n",
    "\n",
    "print('\\nCalculating MAE....')\n",
    "mae_gbr_rs = mean_absolute_error(y_test, y_pred_gbr_rs)\n",
    "print(mae_gbr_rs)"
   ]
  },
  {
   "cell_type": "markdown",
   "id": "0d458313",
   "metadata": {},
   "source": [
    "# Error Analysis"
   ]
  },
  {
   "cell_type": "code",
   "execution_count": 275,
   "id": "103c0c7a",
   "metadata": {},
   "outputs": [
    {
     "data": {
      "text/plain": [
       "array([7.11224565, 1.4525535 , 0.04914599, ..., 1.09823104, 2.99474283,\n",
       "       0.32188498])"
      ]
     },
     "execution_count": 275,
     "metadata": {},
     "output_type": "execute_result"
    }
   ],
   "source": [
    "#Find the largest values that differed from the expected value\n",
    "mse = (y_pred_rnd_rs - y_test) ** 2\n",
    "mse"
   ]
  },
  {
   "cell_type": "code",
   "execution_count": 276,
   "id": "0f8d468b",
   "metadata": {},
   "outputs": [],
   "source": [
    "ind = np.argpartition(mse, -5)[-5:]"
   ]
  },
  {
   "cell_type": "code",
   "execution_count": 277,
   "id": "2c435895",
   "metadata": {},
   "outputs": [
    {
     "data": {
      "text/plain": [
       "array([  427, 19564, 27165, 13243, 19290])"
      ]
     },
     "execution_count": 277,
     "metadata": {},
     "output_type": "execute_result"
    }
   ],
   "source": [
    "ind"
   ]
  },
  {
   "cell_type": "code",
   "execution_count": 282,
   "id": "51699182",
   "metadata": {},
   "outputs": [
    {
     "data": {
      "text/plain": [
       "array([[-0.52759699,  0.67848293, -0.75941692, -0.37953176,  2.45997889,\n",
       "        -0.41324721, -0.42134421, -0.42789687, -0.42187207, -0.38621874,\n",
       "         1.65794341, -0.61627891, -0.53424967, -0.55570092, -0.33754775,\n",
       "         3.4779305 , -0.48314924, -0.49954007, -0.52458013, -0.5258147 ],\n",
       "       [ 2.53550916, -0.93099699, -0.21027948,  2.63482561, -0.40650755,\n",
       "        -0.41324721, -0.42134421, -0.42789687, -0.42187207, -0.38621874,\n",
       "        -0.6031569 , -0.61627891,  1.87178402, -0.55570092, -0.33754775,\n",
       "         3.4779305 , -0.48314924, -0.49954007, -0.52458013, -0.5258147 ],\n",
       "       [-0.52759699,  0.67848293, -1.0229245 , -0.37953176, -0.40650755,\n",
       "        -0.41324721,  2.37335644, -0.42789687, -0.42187207, -0.38621874,\n",
       "        -0.6031569 , -0.61627891,  1.87178402, -0.55570092, -0.33754775,\n",
       "        -0.28752731, -0.48314924, -0.49954007, -0.52458013,  1.90181066],\n",
       "       [-0.52759699,  0.14198963, -0.93016754, -0.37953176, -0.40650755,\n",
       "        -0.41324721,  2.37335644, -0.42789687, -0.42187207, -0.38621874,\n",
       "         1.65794341, -0.61627891, -0.53424967, -0.55570092, -0.33754775,\n",
       "        -0.28752731, -0.48314924, -0.49954007, -0.52458013,  1.90181066],\n",
       "       [-0.52759699,  1.75146955, -1.01749555, -0.37953176, -0.40650755,\n",
       "        -0.41324721, -0.42134421, -0.42789687, -0.42187207,  2.58920633,\n",
       "         1.65794341, -0.61627891, -0.53424967, -0.55570092,  2.96254383,\n",
       "        -0.28752731, -0.48314924, -0.49954007, -0.52458013, -0.5258147 ]])"
      ]
     },
     "execution_count": 282,
     "metadata": {},
     "output_type": "execute_result"
    }
   ],
   "source": [
    "X_test[ind]"
   ]
  },
  {
   "cell_type": "code",
   "execution_count": 296,
   "id": "a4c7bbcc",
   "metadata": {},
   "outputs": [],
   "source": [
    "error_df = pd.DataFrame(scale.inverse_transform([[-0.52759699,  0.67848293, -0.75941692, -0.37953176,  2.45997889,\n",
    "        -0.41324721, -0.42134421, -0.42789687, -0.42187207, -0.38621874,\n",
    "         1.65794341, -0.61627891, -0.53424967, -0.55570092, -0.33754775,\n",
    "         3.4779305 , -0.48314924, -0.49954007, -0.52458013, -0.5258147 ],\n",
    "       [ 2.53550916, -0.93099699, -0.21027948,  2.63482561, -0.40650755,\n",
    "        -0.41324721, -0.42134421, -0.42789687, -0.42187207, -0.38621874,\n",
    "        -0.6031569 , -0.61627891,  1.87178402, -0.55570092, -0.33754775,\n",
    "         3.4779305 , -0.48314924, -0.49954007, -0.52458013, -0.5258147 ],\n",
    "       [-0.52759699,  0.67848293, -1.0229245 , -0.37953176, -0.40650755,\n",
    "        -0.41324721,  2.37335644, -0.42789687, -0.42187207, -0.38621874,\n",
    "        -0.6031569 , -0.61627891,  1.87178402, -0.55570092, -0.33754775,\n",
    "        -0.28752731, -0.48314924, -0.49954007, -0.52458013,  1.90181066],\n",
    "       [-0.52759699,  0.14198963, -0.93016754, -0.37953176, -0.40650755,\n",
    "        -0.41324721,  2.37335644, -0.42789687, -0.42187207, -0.38621874,\n",
    "         1.65794341, -0.61627891, -0.53424967, -0.55570092, -0.33754775,\n",
    "        -0.28752731, -0.48314924, -0.49954007, -0.52458013,  1.90181066],\n",
    "       [-0.52759699,  1.75146955, -1.01749555, -0.37953176, -0.40650755,\n",
    "        -0.41324721, -0.42134421, -0.42789687, -0.42187207,  2.58920633,\n",
    "         1.65794341, -0.61627891, -0.53424967, -0.55570092,  2.96254383,\n",
    "        -0.28752731, -0.48314924, -0.49954007, -0.52458013, -0.5258147 ]]), columns=['passenger_count', 'year', 'Distance', 'isMon', 'isTues',\n",
    "       'isWed', 'isThur', 'isFri', 'isSat', 'isSun', 'Q1', 'Q2', 'Q3', 'Q4',\n",
    "       'H1', 'H2', 'H3', 'H4', 'H5', 'H6'])"
   ]
  },
  {
   "cell_type": "code",
   "execution_count": 297,
   "id": "b76a7052",
   "metadata": {},
   "outputs": [
    {
     "data": {
      "text/html": [
       "<div>\n",
       "<style scoped>\n",
       "    .dataframe tbody tr th:only-of-type {\n",
       "        vertical-align: middle;\n",
       "    }\n",
       "\n",
       "    .dataframe tbody tr th {\n",
       "        vertical-align: top;\n",
       "    }\n",
       "\n",
       "    .dataframe thead th {\n",
       "        text-align: right;\n",
       "    }\n",
       "</style>\n",
       "<table border=\"1\" class=\"dataframe\">\n",
       "  <thead>\n",
       "    <tr style=\"text-align: right;\">\n",
       "      <th></th>\n",
       "      <th>passenger_count</th>\n",
       "      <th>year</th>\n",
       "      <th>Distance</th>\n",
       "      <th>isMon</th>\n",
       "      <th>isTues</th>\n",
       "      <th>isWed</th>\n",
       "      <th>isThur</th>\n",
       "      <th>isFri</th>\n",
       "      <th>isSat</th>\n",
       "      <th>isSun</th>\n",
       "      <th>Q1</th>\n",
       "      <th>Q2</th>\n",
       "      <th>Q3</th>\n",
       "      <th>Q4</th>\n",
       "      <th>H1</th>\n",
       "      <th>H2</th>\n",
       "      <th>H3</th>\n",
       "      <th>H4</th>\n",
       "      <th>H5</th>\n",
       "      <th>H6</th>\n",
       "    </tr>\n",
       "  </thead>\n",
       "  <tbody>\n",
       "    <tr>\n",
       "      <th>0</th>\n",
       "      <td>1.0</td>\n",
       "      <td>2013.0</td>\n",
       "      <td>1.0</td>\n",
       "      <td>-0.0</td>\n",
       "      <td>1.0</td>\n",
       "      <td>0.0</td>\n",
       "      <td>0.0</td>\n",
       "      <td>0.0</td>\n",
       "      <td>-0.0</td>\n",
       "      <td>-0.0</td>\n",
       "      <td>1.0</td>\n",
       "      <td>-0.0</td>\n",
       "      <td>0.0</td>\n",
       "      <td>-0.0</td>\n",
       "      <td>-0.0</td>\n",
       "      <td>1.0</td>\n",
       "      <td>0.0</td>\n",
       "      <td>0.0</td>\n",
       "      <td>-0.0</td>\n",
       "      <td>-0.0</td>\n",
       "    </tr>\n",
       "    <tr>\n",
       "      <th>1</th>\n",
       "      <td>5.0</td>\n",
       "      <td>2010.0</td>\n",
       "      <td>2.0</td>\n",
       "      <td>1.0</td>\n",
       "      <td>0.0</td>\n",
       "      <td>0.0</td>\n",
       "      <td>0.0</td>\n",
       "      <td>0.0</td>\n",
       "      <td>-0.0</td>\n",
       "      <td>-0.0</td>\n",
       "      <td>-0.0</td>\n",
       "      <td>-0.0</td>\n",
       "      <td>1.0</td>\n",
       "      <td>-0.0</td>\n",
       "      <td>-0.0</td>\n",
       "      <td>1.0</td>\n",
       "      <td>0.0</td>\n",
       "      <td>0.0</td>\n",
       "      <td>-0.0</td>\n",
       "      <td>-0.0</td>\n",
       "    </tr>\n",
       "    <tr>\n",
       "      <th>2</th>\n",
       "      <td>1.0</td>\n",
       "      <td>2013.0</td>\n",
       "      <td>0.0</td>\n",
       "      <td>-0.0</td>\n",
       "      <td>0.0</td>\n",
       "      <td>0.0</td>\n",
       "      <td>1.0</td>\n",
       "      <td>0.0</td>\n",
       "      <td>-0.0</td>\n",
       "      <td>-0.0</td>\n",
       "      <td>-0.0</td>\n",
       "      <td>-0.0</td>\n",
       "      <td>1.0</td>\n",
       "      <td>-0.0</td>\n",
       "      <td>-0.0</td>\n",
       "      <td>-0.0</td>\n",
       "      <td>0.0</td>\n",
       "      <td>0.0</td>\n",
       "      <td>-0.0</td>\n",
       "      <td>1.0</td>\n",
       "    </tr>\n",
       "    <tr>\n",
       "      <th>3</th>\n",
       "      <td>1.0</td>\n",
       "      <td>2012.0</td>\n",
       "      <td>1.0</td>\n",
       "      <td>-0.0</td>\n",
       "      <td>0.0</td>\n",
       "      <td>0.0</td>\n",
       "      <td>1.0</td>\n",
       "      <td>0.0</td>\n",
       "      <td>-0.0</td>\n",
       "      <td>-0.0</td>\n",
       "      <td>1.0</td>\n",
       "      <td>-0.0</td>\n",
       "      <td>0.0</td>\n",
       "      <td>-0.0</td>\n",
       "      <td>-0.0</td>\n",
       "      <td>-0.0</td>\n",
       "      <td>0.0</td>\n",
       "      <td>0.0</td>\n",
       "      <td>-0.0</td>\n",
       "      <td>1.0</td>\n",
       "    </tr>\n",
       "    <tr>\n",
       "      <th>4</th>\n",
       "      <td>1.0</td>\n",
       "      <td>2015.0</td>\n",
       "      <td>0.0</td>\n",
       "      <td>-0.0</td>\n",
       "      <td>0.0</td>\n",
       "      <td>0.0</td>\n",
       "      <td>0.0</td>\n",
       "      <td>0.0</td>\n",
       "      <td>-0.0</td>\n",
       "      <td>1.0</td>\n",
       "      <td>1.0</td>\n",
       "      <td>-0.0</td>\n",
       "      <td>0.0</td>\n",
       "      <td>-0.0</td>\n",
       "      <td>1.0</td>\n",
       "      <td>-0.0</td>\n",
       "      <td>0.0</td>\n",
       "      <td>0.0</td>\n",
       "      <td>-0.0</td>\n",
       "      <td>-0.0</td>\n",
       "    </tr>\n",
       "  </tbody>\n",
       "</table>\n",
       "</div>"
      ],
      "text/plain": [
       "   passenger_count    year  Distance  isMon  isTues  isWed  isThur  isFri  \\\n",
       "0              1.0  2013.0       1.0   -0.0     1.0    0.0     0.0    0.0   \n",
       "1              5.0  2010.0       2.0    1.0     0.0    0.0     0.0    0.0   \n",
       "2              1.0  2013.0       0.0   -0.0     0.0    0.0     1.0    0.0   \n",
       "3              1.0  2012.0       1.0   -0.0     0.0    0.0     1.0    0.0   \n",
       "4              1.0  2015.0       0.0   -0.0     0.0    0.0     0.0    0.0   \n",
       "\n",
       "   isSat  isSun   Q1   Q2   Q3   Q4   H1   H2   H3   H4   H5   H6  \n",
       "0   -0.0   -0.0  1.0 -0.0  0.0 -0.0 -0.0  1.0  0.0  0.0 -0.0 -0.0  \n",
       "1   -0.0   -0.0 -0.0 -0.0  1.0 -0.0 -0.0  1.0  0.0  0.0 -0.0 -0.0  \n",
       "2   -0.0   -0.0 -0.0 -0.0  1.0 -0.0 -0.0 -0.0  0.0  0.0 -0.0  1.0  \n",
       "3   -0.0   -0.0  1.0 -0.0  0.0 -0.0 -0.0 -0.0  0.0  0.0 -0.0  1.0  \n",
       "4   -0.0    1.0  1.0 -0.0  0.0 -0.0  1.0 -0.0  0.0  0.0 -0.0 -0.0  "
      ]
     },
     "execution_count": 297,
     "metadata": {},
     "output_type": "execute_result"
    }
   ],
   "source": [
    "error_df.round(0)"
   ]
  }
 ],
 "metadata": {
  "kernelspec": {
   "display_name": "Python 3 (ipykernel)",
   "language": "python",
   "name": "python3"
  },
  "language_info": {
   "codemirror_mode": {
    "name": "ipython",
    "version": 3
   },
   "file_extension": ".py",
   "mimetype": "text/x-python",
   "name": "python",
   "nbconvert_exporter": "python",
   "pygments_lexer": "ipython3",
   "version": "3.9.12"
  }
 },
 "nbformat": 4,
 "nbformat_minor": 5
}
